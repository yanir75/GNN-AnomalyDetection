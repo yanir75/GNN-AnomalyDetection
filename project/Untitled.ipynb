{
 "cells": [
  {
   "cell_type": "code",
   "execution_count": 1,
   "id": "da1fb89e",
   "metadata": {},
   "outputs": [],
   "source": [
    "import networkx as nx"
   ]
  },
  {
   "cell_type": "code",
   "execution_count": 2,
   "id": "2a0379d0",
   "metadata": {},
   "outputs": [],
   "source": [
    "G = nx.Graph()"
   ]
  },
  {
   "cell_type": "code",
   "execution_count": 3,
   "id": "7ad3571d",
   "metadata": {},
   "outputs": [],
   "source": [
    "G.add_node(1,pos=(1,1))"
   ]
  },
  {
   "cell_type": "code",
   "execution_count": 4,
   "id": "68bdd287",
   "metadata": {},
   "outputs": [],
   "source": [
    "G.add_node(2,pos=(1,2))"
   ]
  },
  {
   "cell_type": "code",
   "execution_count": 5,
   "id": "8cbd1cb4",
   "metadata": {},
   "outputs": [],
   "source": [
    "G.add_node(3,pos=(1,3))"
   ]
  },
  {
   "cell_type": "code",
   "execution_count": 6,
   "id": "67b33867",
   "metadata": {},
   "outputs": [],
   "source": [
    "G.add_node(4,pos=(2,1))"
   ]
  },
  {
   "cell_type": "code",
   "execution_count": 7,
   "id": "8c0b4d0a",
   "metadata": {},
   "outputs": [],
   "source": [
    "G.add_node(5,pos=(2,2))"
   ]
  },
  {
   "cell_type": "code",
   "execution_count": 8,
   "id": "9ce857a1",
   "metadata": {},
   "outputs": [],
   "source": [
    "G.add_node(6,pos=(2,3))"
   ]
  },
  {
   "cell_type": "code",
   "execution_count": 9,
   "id": "a5672ab5",
   "metadata": {},
   "outputs": [],
   "source": [
    "G.add_node(7,pos=(3,1))"
   ]
  },
  {
   "cell_type": "code",
   "execution_count": 10,
   "id": "c43826d5",
   "metadata": {},
   "outputs": [],
   "source": [
    "G.add_node(8,pos=(3,2))"
   ]
  },
  {
   "cell_type": "code",
   "execution_count": 11,
   "id": "4f8f5e3c",
   "metadata": {},
   "outputs": [],
   "source": [
    "G.add_node(9,pos=(3,3))"
   ]
  },
  {
   "cell_type": "code",
   "execution_count": 12,
   "id": "cd2b5a9a",
   "metadata": {},
   "outputs": [],
   "source": [
    "G.add_edge(3, 5 )\n",
    "G.add_edge(5, 9 )\n",
    "G.add_edge(3, 4 )\n",
    "G.add_edge(4, 7 )\n",
    "G.add_edge(2, 6 )\n",
    "G.add_edge(6, 8 )\n",
    "G.add_edge(1, 5 )\n",
    "G.add_edge(5, 7 )"
   ]
  },
  {
   "cell_type": "code",
   "execution_count": 13,
   "id": "1ae06930",
   "metadata": {},
   "outputs": [
    {
     "data": {
      "image/png": "[encoded data removed]",
      "text/plain": [
       "<Figure size 640x480 with 1 Axes>"
      ]
     },
     "metadata": {},
     "output_type": "display_data"
    }
   ],
   "source": [
    "pos=nx.get_node_attributes(G,'pos')\n",
    "nx.draw( G, pos )\n"
   ]
  },
  {
   "cell_type": "code",
   "execution_count": null,
   "id": "f2d9fb19",
   "metadata": {},
   "outputs": [],
   "source": []
  }
 ],
 "metadata": {
  "kernelspec": {
   "display_name": "Python 3 (ipykernel)",
   "language": "python",
   "name": "python3"
  },
  "language_info": {
   "codemirror_mode": {
    "name": "ipython",
    "version": 3
   },
   "file_extension": ".py",
   "mimetype": "text/x-python",
   "name": "python",
   "nbconvert_exporter": "python",
   "pygments_lexer": "ipython3",
   "version": "3.9.6"
  }
 },
 "nbformat": 4,
 "nbformat_minor": 5
}
