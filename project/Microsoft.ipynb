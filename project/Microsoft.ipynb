{
 "cells": [
  {
   "cell_type": "code",
   "execution_count": null,
   "id": "e3648f13",
   "metadata": {},
   "outputs": [],
   "source": [
    "import json\n",
    "import pandas as pd\n",
    "from sklearn.preprocessing import OneHotEncoder,LabelEncoder\n",
    "import networkx as nx\n",
    "import numpy as np\n",
    "from math import dist\n",
    "import copy\n",
    "import matplotlib.pyplot as plt\n",
    "##### model\n",
    "from sklearn.manifold import TSNE\n",
    "from sklearn.model_selection import train_test_split\n",
    "from sklearn.metrics import accuracy_score\n",
    "from sklearn.metrics.pairwise import pairwise_distances\n",
    "from stellargraph.data import BiasedRandomWalk\n",
    "from stellargraph import StellarGraph\n",
    "from gensim.models import Word2Vec\n",
    "from sklearn.cluster import DBSCAN\n",
    "\n",
    "\n",
    "import warnings\n",
    "import collections\n",
    "from stellargraph import datasets\n",
    "from IPython.display import display, HTML\n",
    "import matplotlib.pyplot as plt\n",
    "import torch\n",
    "from torch_geometric.utils.convert import from_networkx\n",
    "\n",
    "\n",
    "%matplotlib inline\n",
    "\n"
   ]
  },
  {
   "cell_type": "code",
   "execution_count": null,
   "id": "45f409e1",
   "metadata": {},
   "outputs": [],
   "source": [
    "\n",
    "# crate a list to add dataframes to\n",
    "awsc_list = list()\n",
    "\n",
    "# list of files\n",
    "files_list = ['../Datasets/attack3.json']\n",
    "\n",
    "# Load event names\n",
    "category_file = open(\"../Utils/event_category.json\")\n",
    "event_categories = json.load(category_file)\n",
    "category_file.close()\n",
    "\n",
    "encoder = OneHotEncoder(handle_unknown='ignore')\n",
    "label_encoder = LabelEncoder()"
   ]
  },
  {
   "cell_type": "code",
   "execution_count": null,
   "id": "f9a30172",
   "metadata": {},
   "outputs": [],
   "source": [
    "for file in files_list:\n",
    "    with open(file, 'r', encoding='utf-8') as f:\n",
    "        data = json.loads(f.read())\n",
    "        \n",
    "        # Append the dataframes\n",
    "        awsc_list.append(pd.DataFrame.from_records(data['Records']))"
   ]
  },
  {
   "cell_type": "code",
   "execution_count": null,
   "id": "cd10043a",
   "metadata": {},
   "outputs": [],
   "source": [
    "awsc = pd.concat(awsc_list).reset_index(drop=True)"
   ]
  },
  {
   "cell_type": "code",
   "execution_count": null,
   "id": "8cee25cb",
   "metadata": {},
   "outputs": [],
   "source": [
    "awsc[(awsc['eventSource']=='cognito-idp.amazonaws.com')]"
   ]
  },
  {
   "cell_type": "code",
   "execution_count": null,
   "id": "bb27bdf0",
   "metadata": {},
   "outputs": [],
   "source": [
    "users = pd.json_normalize(awsc['userIdentity']).merge(awsc[['eventTime','eventName','eventSource','awsRegion','errorCode']], left_index=True,right_index=True)"
   ]
  },
  {
   "cell_type": "code",
   "execution_count": null,
   "id": "f98f7fd9",
   "metadata": {},
   "outputs": [],
   "source": [
    "users['userName'] = users['userName'].fillna(users['arn']).fillna(users['invokedBy']) \\\n",
    ".fillna(users['invokedBy']).fillna(users['principalId']).fillna('accountId')"
   ]
  },
  {
   "cell_type": "code",
   "execution_count": null,
   "id": "2b13d481",
   "metadata": {},
   "outputs": [],
   "source": [
    "users = users[['eventTime','type','userName','eventName','eventSource','awsRegion','errorCode']]\n",
    "users = users.rename(columns = {'eventTime':'timestamp','userName':'Identifier','eventSource':'TargetService','errorCode':'Error'})\n"
   ]
  },
  {
   "cell_type": "code",
   "execution_count": null,
   "id": "4b4895e9",
   "metadata": {},
   "outputs": [],
   "source": [
    "users.head()\n"
   ]
  },
  {
   "cell_type": "code",
   "execution_count": null,
   "id": "b5000f46",
   "metadata": {},
   "outputs": [],
   "source": [
    "users['timestamp'] = pd.to_datetime(users['timestamp']).map(pd.Timestamp.timestamp).map(int)\n",
    "users = users.sort_values('timestamp',ascending=True,ignore_index=True)"
   ]
  },
  {
   "cell_type": "code",
   "execution_count": null,
   "id": "a07a3628",
   "metadata": {},
   "outputs": [],
   "source": [
    "users['Identifier'] = users['Identifier'].apply(lambda x : x if (len(x.split(\":\"))!=2) else x.split(\":\")[1])\n",
    "users.nunique()"
   ]
  },
  {
   "cell_type": "code",
   "execution_count": null,
   "id": "3e3b8b38",
   "metadata": {},
   "outputs": [],
   "source": [
    "users['identity-target'] = \"source-\"+users['Identifier'] + \"|\" + \"target-\"+ users['TargetService']"
   ]
  },
  {
   "cell_type": "code",
   "execution_count": null,
   "id": "114cd803",
   "metadata": {},
   "outputs": [],
   "source": [
    "users.head()"
   ]
  },
  {
   "cell_type": "code",
   "execution_count": null,
   "id": "c5138c68",
   "metadata": {},
   "outputs": [],
   "source": [
    "users['Identifier'] = users['Identifier'].apply(lambda x : f\"source-{x}\")\n",
    "users['TargetService'] = users['TargetService'].apply(lambda x : f\"target-{x}\")"
   ]
  },
  {
   "cell_type": "code",
   "execution_count": null,
   "id": "b929870b",
   "metadata": {},
   "outputs": [],
   "source": [
    "def get_time_df(start,end,minutes,df,col='timestamp'):\n",
    "    minutes = minutes * 60\n",
    "    df_list = []\n",
    "    start_time = start\n",
    "    df_len = 0\n",
    "    while start < end:\n",
    "        cur_df = df[(df[col] >= start_time) & (df[col] < start+minutes)]\n",
    "        if len(cur_df) != df_len:\n",
    "            df_list.append(df[(df[col] >= start_time) & (df[col] < start+minutes)])\n",
    "            df_len = len(cur_df)\n",
    "        start+=minutes\n",
    "    return df_list"
   ]
  },
  {
   "cell_type": "code",
   "execution_count": null,
   "id": "167ba45a",
   "metadata": {},
   "outputs": [],
   "source": [
    "df_list = get_time_df(users['timestamp'].iloc[0],users['timestamp'].iloc[-1],60*24*30,users)"
   ]
  },
  {
   "cell_type": "code",
   "execution_count": null,
   "id": "27100be2",
   "metadata": {},
   "outputs": [],
   "source": [
    "len(df_list)"
   ]
  },
  {
   "cell_type": "markdown",
   "id": "f05afd49",
   "metadata": {},
   "source": [
    "# Create the graph"
   ]
  },
  {
   "cell_type": "code",
   "execution_count": null,
   "id": "44258c56",
   "metadata": {},
   "outputs": [],
   "source": [
    "nodes = ['Identifier','TargetService']\n",
    "edges = ['identity-target']\n"
   ]
  },
  {
   "cell_type": "code",
   "execution_count": null,
   "id": "d1c8fde2",
   "metadata": {},
   "outputs": [],
   "source": [
    "def add_nodes(g,df,col,x,jump=10):\n",
    "    y = 10\n",
    "    unique_nodes = df[col].unique()\n",
    "    for i in unique_nodes:\n",
    "        if i!= None:\n",
    "            g.add_node(f'{i}',pos=(x,y))\n",
    "            y+=jump\n",
    "#     for i in range(len(unique_nodes)-1):\n",
    "#         g.add_edge(unique_nodes[i],unique_nodes[i+1])\n",
    "\n",
    "def add_edges(g,df,col):\n",
    "    edges = df[col].value_counts()\n",
    "    for node,value in edges.items():\n",
    "        start_node,end_node = node.split('|')\n",
    "        if \"None\" not in start_node and \"None\" not in end_node:\n",
    "            g.add_edge(start_node, end_node, weight=1)"
   ]
  },
  {
   "cell_type": "code",
   "execution_count": null,
   "id": "816e3767",
   "metadata": {},
   "outputs": [],
   "source": [
    "def generate_graph(G,df_nodes,df_edges):  \n",
    "    x = 10\n",
    "    nodes_li = []\n",
    "    for node in nodes:\n",
    "        add_nodes(G,df_nodes,node,x,100)\n",
    "        x+=1\n",
    "        nodes_li.append(df_nodes[node].unique())\n",
    "    for i in range(len(nodes_li)-1):\n",
    "        for node1 in nodes_li[i]:\n",
    "            for node2 in nodes_li[i+1]:\n",
    "                G.add_edge(node1,node2,weight=0)\n",
    "    for edge in edges:\n",
    "        add_edges(G,df_edges,edge)"
   ]
  },
  {
   "cell_type": "code",
   "execution_count": null,
   "id": "9a46acc4",
   "metadata": {},
   "outputs": [],
   "source": [
    "G = nx.Graph()"
   ]
  },
  {
   "cell_type": "code",
   "execution_count": null,
   "id": "7553e378",
   "metadata": {},
   "outputs": [],
   "source": [
    "generate_graph(G,users,users)"
   ]
  },
  {
   "cell_type": "code",
   "execution_count": null,
   "id": "c527219d",
   "metadata": {},
   "outputs": [],
   "source": [
    "def generate_graphs(df,df_list):\n",
    "    li = []\n",
    "    for data in df_list:\n",
    "        G = nx.Graph()\n",
    "        generate_graph(G,df,data)\n",
    "        li.append(G)\n",
    "    return li"
   ]
  },
  {
   "cell_type": "code",
   "execution_count": null,
   "id": "e0ed3a1d",
   "metadata": {},
   "outputs": [],
   "source": [
    "graphs = generate_graphs(users,df_list)"
   ]
  },
  {
   "cell_type": "code",
   "execution_count": null,
   "id": "2cbabcd6",
   "metadata": {},
   "outputs": [],
   "source": [
    "# from pylab import rcParams\n",
    "# rcParams['figure.figsize'] = 14, 10\n",
    "# pos=nx.get_node_attributes(G,'pos')\n",
    "# # pos = nx.spring_layout(G, scale=20, k=3/np.sqrt(G.order()))\n",
    "# d = dict(G.degree)\n",
    "# nx.draw(G, pos, node_color='lightblue', \n",
    "#         with_labels=True, \n",
    "#         nodelist=d, \n",
    "#         node_size=[d[k]*300 for k in d])\n",
    "# labels = nx.get_edge_attributes(G,'weight')\n",
    "# nx.draw_networkx_edge_labels(G,pos,edge_labels=labels,font_size=5)\n",
    "# import matplotlib.pyplot as plt\n",
    "# plt.savefig(f'plotgraph.png', dpi=300, bbox_inches='tight')\n",
    "\n",
    "\n",
    "# pos=nx.get_node_attributes(G,'pos')\n",
    "# nx.draw(G,pos)\n",
    "# plt.show()"
   ]
  },
  {
   "cell_type": "code",
   "execution_count": null,
   "id": "db099df5",
   "metadata": {},
   "outputs": [],
   "source": [
    "df = nx.to_pandas_adjacency(G, dtype=float)"
   ]
  },
  {
   "cell_type": "code",
   "execution_count": null,
   "id": "b992151b",
   "metadata": {},
   "outputs": [],
   "source": [
    "df.head()"
   ]
  },
  {
   "cell_type": "code",
   "execution_count": null,
   "id": "9e71db0c",
   "metadata": {},
   "outputs": [],
   "source": [
    "from sklearn.manifold import SpectralEmbedding\n",
    "embedding = SpectralEmbedding(n_components=74)\n",
    "X = embedding.fit_transform(df)"
   ]
  },
  {
   "cell_type": "code",
   "execution_count": null,
   "id": "8bdd1fb9",
   "metadata": {},
   "outputs": [],
   "source": [
    "X"
   ]
  },
  {
   "cell_type": "code",
   "execution_count": null,
   "id": "8cf972dc",
   "metadata": {},
   "outputs": [],
   "source": [
    "import umap\n",
    "# Create a UMAP object with 2 components (i.e., 2D)\n",
    "umap_2d = umap.UMAP(n_components=2)\n",
    "\n",
    "# Fit and transform the dataset using UMAP\n",
    "X_umap_2d = umap_2d.fit_transform(X)\n",
    "\n",
    "# Visualize the results\n",
    "plt.scatter(X_umap_2d[:, 0], X_umap_2d[:, 1])\n",
    "for i,other in enumerate(X_umap_2d):\n",
    "    x,y = other\n",
    "    plt.text(x,y,i)\n",
    "plt.title('2D UMAP visualization')\n",
    "plt.show()"
   ]
  },
  {
   "cell_type": "code",
   "execution_count": null,
   "id": "fa226146",
   "metadata": {},
   "outputs": [],
   "source": [
    "df_from_graphs = []\n",
    "for graph in graphs:\n",
    "    df_from_graphs.append(nx.to_pandas_adjacency(graph, dtype=float))"
   ]
  },
  {
   "cell_type": "code",
   "execution_count": null,
   "id": "17d9d172",
   "metadata": {},
   "outputs": [],
   "source": [
    "distance_df = df.replace(1,0).copy(deep=True)"
   ]
  },
  {
   "cell_type": "code",
   "execution_count": null,
   "id": "945038fc",
   "metadata": {},
   "outputs": [],
   "source": [
    "distance_df"
   ]
  },
  {
   "cell_type": "code",
   "execution_count": null,
   "id": "fff72eee",
   "metadata": {},
   "outputs": [],
   "source": [
    "from sklearn.neighbors import NearestNeighbors\n",
    "a = 1\n",
    "for df_graph in df_from_graphs:\n",
    "#     a+=1\n",
    "    target_cols = [col for col in df_graph.columns if 'target' in col]\n",
    "    for col in target_cols:\n",
    "        index_di = {}\n",
    "        index_to_pd_index = {}\n",
    "        nodes = df_graph[col].loc[df_graph[col]==1]\n",
    "        for i,other in enumerate(nodes.items()):\n",
    "            ind,_=other\n",
    "            pd_index = df_graph.index.get_loc(ind)\n",
    "            index_di[pd_index] = ind\n",
    "            index_to_pd_index[i] = ind\n",
    "        if len(index_di) > 1:\n",
    "            x = X[list(index_di.keys())]\n",
    "            nbrs = NearestNeighbors(n_neighbors=2, algorithm='ball_tree').fit(x)\n",
    "            distances, indices = nbrs.kneighbors(x)\n",
    "            for i,other in enumerate(index_di.items()):\n",
    "                key,value = other\n",
    "                nearest_neighbor = indices[i][1]\n",
    "                nearest_neighbor_ind = index_to_pd_index[nearest_neighbor]\n",
    "                if distance_df.loc[value,nearest_neighbor_ind] ==  0:\n",
    "                    distance_df.loc[value,nearest_neighbor_ind] = distances[i][1]*a"
   ]
  },
  {
   "cell_type": "code",
   "execution_count": null,
   "id": "ee3e139f",
   "metadata": {},
   "outputs": [],
   "source": [
    "cols = [c for c in distance_df.columns if 'target' not in c]\n",
    "\n",
    "distance_df = distance_df[cols].drop(distance_df.columns.difference(cols))"
   ]
  },
  {
   "cell_type": "code",
   "execution_count": null,
   "id": "80eaf6a3",
   "metadata": {},
   "outputs": [],
   "source": [
    "result = nx.from_pandas_adjacency(distance_df)"
   ]
  },
  {
   "cell_type": "code",
   "execution_count": null,
   "id": "c8ab0668",
   "metadata": {},
   "outputs": [],
   "source": [
    "color_map = ['red' if node == 'source-cloud_user' else 'green' for node in result]        \n",
    "# pos=nx.spring_layout(result) # pos = nx.nx_agraph.graphviz_layout(G)\n",
    "nx.draw(result,node_color=color_map)\n",
    "# labels = nx.get_edge_attributes(result,'weight')\n",
    "# nx.draw_networkx_edge_labels(result,pos=pos)\n",
    "plt.savefig(\"res.png\")"
   ]
  },
  {
   "cell_type": "code",
   "execution_count": null,
   "id": "7612440b",
   "metadata": {},
   "outputs": [],
   "source": [
    "distance_df"
   ]
  },
  {
   "cell_type": "code",
   "execution_count": null,
   "id": "bac87112",
   "metadata": {},
   "outputs": [],
   "source": [
    "ans = distance_df.T.max().reset_index().rename(columns={0:'Anomaly Score'})"
   ]
  },
  {
   "cell_type": "code",
   "execution_count": null,
   "id": "9c60d134",
   "metadata": {},
   "outputs": [],
   "source": [
    "ans.sort_values('index',inplace = True,ignore_index=True)"
   ]
  },
  {
   "cell_type": "code",
   "execution_count": null,
   "id": "3ddc7658",
   "metadata": {},
   "outputs": [],
   "source": [
    "# a, b = 0, 2.5\n",
    "# x, y = ans['Anomaly Score'].min(), ans['Anomaly Score'].max()\n",
    "# ans['Anomaly Score'] = (ans['Anomaly Score'] - x) / (y - x) * (b - a) + a"
   ]
  },
  {
   "cell_type": "code",
   "execution_count": null,
   "id": "13c521c0",
   "metadata": {},
   "outputs": [],
   "source": [
    "ans['Node'] = ans.index"
   ]
  },
  {
   "cell_type": "code",
   "execution_count": null,
   "id": "87016cba",
   "metadata": {},
   "outputs": [],
   "source": [
    "ax = ans.plot(kind = \"bar\",x='Node',\n",
    "                      y='Anomaly Score',ylim=(0,2.5))"
   ]
  },
  {
   "cell_type": "code",
   "execution_count": null,
   "id": "981766f8",
   "metadata": {},
   "outputs": [],
   "source": [
    "for i in enumerate(ans['index']):\n",
    "    print(i)"
   ]
  },
  {
   "cell_type": "code",
   "execution_count": null,
   "id": "ca48162b",
   "metadata": {},
   "outputs": [],
   "source": [
    "ans['Anomaly Score'].std()"
   ]
  },
  {
   "cell_type": "code",
   "execution_count": null,
   "id": "b2a5ccc2",
   "metadata": {},
   "outputs": [],
   "source": [
    "ans['Anomaly Score'].mean()"
   ]
  },
  {
   "cell_type": "code",
   "execution_count": null,
   "id": "0496744e",
   "metadata": {},
   "outputs": [],
   "source": [
    "ans[ans['Anomaly Score'] > ans['Anomaly Score'].mean() + 2*ans['Anomaly Score'].std()] "
   ]
  },
  {
   "cell_type": "code",
   "execution_count": null,
   "id": "d3e03594",
   "metadata": {},
   "outputs": [],
   "source": [
    "ans['Anomaly Score'].mean()"
   ]
  },
  {
   "cell_type": "code",
   "execution_count": null,
   "id": "fe7edeb0",
   "metadata": {},
   "outputs": [],
   "source": [
    "ans['Anomaly Score'].mean() + 2*ans['Anomaly Score'].std()"
   ]
  },
  {
   "cell_type": "code",
   "execution_count": null,
   "id": "2d79b38e",
   "metadata": {},
   "outputs": [],
   "source": [
    "ans['Anomaly Score'].mean() + 1*ans['Anomaly Score'].std()"
   ]
  },
  {
   "cell_type": "code",
   "execution_count": null,
   "id": "eb81b506",
   "metadata": {},
   "outputs": [],
   "source": [
    "ans['Anomaly Score'].std()*ans['Anomaly Score'].std()"
   ]
  }
 ],
 "metadata": {
  "kernelspec": {
   "display_name": "Python 3 (ipykernel)",
   "language": "python",
   "name": "python3"
  },
  "language_info": {
   "codemirror_mode": {
    "name": "ipython",
    "version": 3
   },
   "file_extension": ".py",
   "mimetype": "text/x-python",
   "name": "python",
   "nbconvert_exporter": "python",
   "pygments_lexer": "ipython3",
   "version": "3.9.6"
  }
 },
 "nbformat": 4,
 "nbformat_minor": 5
}
