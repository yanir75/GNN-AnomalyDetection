{
 "cells": [
  {
   "cell_type": "code",
   "execution_count": 1,
   "id": "e3648f13",
   "metadata": {},
   "outputs": [
    {
     "name": "stderr",
     "output_type": "stream",
     "text": [
      "/Users/yanircohen/Library/Python/3.9/lib/python/site-packages/tqdm/auto.py:22: TqdmWarning: IProgress not found. Please update jupyter and ipywidgets. See https://ipywidgets.readthedocs.io/en/stable/user_install.html\n",
      "  from .autonotebook import tqdm as notebook_tqdm\n"
     ]
    }
   ],
   "source": [
    "import json\n",
    "import pandas as pd\n",
    "import networkx as nx\n",
    "import numpy as np\n",
    "from math import dist\n",
    "import copy\n",
    "import matplotlib.pyplot as plt\n",
    "##### model\n",
    "from sklearn.manifold import TSNE\n",
    "from sklearn.model_selection import train_test_split\n",
    "from sklearn.metrics import accuracy_score\n",
    "from sklearn.metrics.pairwise import pairwise_distances\n",
    "from stellargraph.data import BiasedRandomWalk\n",
    "from stellargraph import StellarGraph\n",
    "from gensim.models import Word2Vec\n",
    "from sklearn.cluster import DBSCAN\n",
    "\n",
    "\n",
    "import warnings\n",
    "import collections\n",
    "from stellargraph import datasets\n",
    "from IPython.display import display, HTML\n",
    "import matplotlib.pyplot as plt\n",
    "import torch\n",
    "from torch_geometric.utils.convert import from_networkx\n",
    "\n",
    "\n",
    "%matplotlib inline\n",
    "\n"
   ]
  },
  {
   "cell_type": "code",
   "execution_count": 2,
   "id": "ca514379",
   "metadata": {},
   "outputs": [],
   "source": [
    "starts_with_di = {\n",
    "    'CreateObject': ['request','create','copy','run','purchase','allocate','import','startinstances'],\n",
    "    'ModifyExistingResource': ['modify','update','set','tag','deregister','deprecate','un','reject','register'],\n",
    "    'ListResources' : ['list'],\n",
    "    'Download/UploadObjects': ['enc','getobjects','upload'],\n",
    "    'GetInfo': ['describe','get','search'],\n",
    "    'AssociateResources' : ['associate','put'],\n",
    "    'Login' : ['assume','login','switch','renewrole','renewdelegate','checkmfa'],\n",
    "    'RemovePermissions': ['remove'],\n",
    "    'GrantPermissions': ['add','authorize']\n",
    "\n",
    "}\n",
    "\n",
    "contains_di = {\n",
    "    'Delete': ['delet','terminate','revoke','drop','releaseaddress'] ,\n",
    "    'DisableObjects': ['disabl','stop','cancel','unlink','suspend'],\n",
    "    'EnableObjects': ['enabl','start','invoke','subscribe','test','complete'],\n",
    "    'SensitiveInfo': ['send','accesskey','secretkey','token','invite','exportapi','decode'],\n",
    "    'Logout': ['exit'],\n",
    "    'CreateObject': ['create','copy'],\n",
    "    'ModifyExistingResource': ['failover','change','confirm','promote','reboot','rotate','replace','retire','detach','modify','update','set','tag','deregister','Deprecate','attach','upgrade','wipe','transfer','validate','publish'],\n",
    "    'ListResources' : ['list'],\n",
    "    'Download/UploadObjects': ['getobjects','upload'],\n",
    "    'GetInfo': ['describe','get','view','decrypt','generate','lookup','scan','simulate'],\n",
    "    'AssociateResources' : ['associate','put'],\n",
    "    'Login' : ['assume','login','renewrole','sign','forgot'],\n",
    "    'Logout' : ['logout']\n",
    "\n",
    "}"
   ]
  },
  {
   "cell_type": "code",
   "execution_count": 3,
   "id": "45f409e1",
   "metadata": {},
   "outputs": [],
   "source": [
    "\n",
    "# crate a list to add dataframes to\n",
    "awsc_list = list()\n",
    "\n",
    "# list of files\n",
    "files_list = ['../Datasets/attack2.json']\n",
    "\n",
    "# Load event names\n",
    "category_file = open(\"../Utils/event_category.json\")\n",
    "event_categories = json.load(category_file)\n",
    "category_file.close()\n"
   ]
  },
  {
   "cell_type": "code",
   "execution_count": 4,
   "id": "f9a30172",
   "metadata": {},
   "outputs": [],
   "source": [
    "for file in files_list:\n",
    "    with open(file, 'r', encoding='utf-8') as f:\n",
    "        data = json.loads(f.read())\n",
    "        \n",
    "        # Append the dataframes\n",
    "        awsc_list.append(pd.DataFrame.from_records(data['Records']))"
   ]
  },
  {
   "cell_type": "code",
   "execution_count": 5,
   "id": "cd10043a",
   "metadata": {},
   "outputs": [],
   "source": [
    "awsc = pd.concat(awsc_list).reset_index(drop=True)"
   ]
  },
  {
   "cell_type": "code",
   "execution_count": 6,
   "id": "8cee25cb",
   "metadata": {},
   "outputs": [
    {
     "data": {
      "text/html": [
       "<div>\n",
       "<style scoped>\n",
       "    .dataframe tbody tr th:only-of-type {\n",
       "        vertical-align: middle;\n",
       "    }\n",
       "\n",
       "    .dataframe tbody tr th {\n",
       "        vertical-align: top;\n",
       "    }\n",
       "\n",
       "    .dataframe thead th {\n",
       "        text-align: right;\n",
       "    }\n",
       "</style>\n",
       "<table border=\"1\" class=\"dataframe\">\n",
       "  <thead>\n",
       "    <tr style=\"text-align: right;\">\n",
       "      <th></th>\n",
       "      <th>eventVersion</th>\n",
       "      <th>userIdentity</th>\n",
       "      <th>eventTime</th>\n",
       "      <th>eventSource</th>\n",
       "      <th>eventName</th>\n",
       "      <th>awsRegion</th>\n",
       "      <th>sourceIPAddress</th>\n",
       "      <th>userAgent</th>\n",
       "      <th>requestParameters</th>\n",
       "      <th>responseElements</th>\n",
       "      <th>...</th>\n",
       "      <th>eventCategory</th>\n",
       "      <th>tlsDetails</th>\n",
       "      <th>additionalEventData</th>\n",
       "      <th>resources</th>\n",
       "      <th>errorCode</th>\n",
       "      <th>errorMessage</th>\n",
       "      <th>vpcEndpointId</th>\n",
       "      <th>apiVersion</th>\n",
       "      <th>sharedEventID</th>\n",
       "      <th>sessionCredentialFromConsole</th>\n",
       "    </tr>\n",
       "  </thead>\n",
       "  <tbody>\n",
       "  </tbody>\n",
       "</table>\n",
       "<p>0 rows × 26 columns</p>\n",
       "</div>"
      ],
      "text/plain": [
       "Empty DataFrame\n",
       "Columns: [eventVersion, userIdentity, eventTime, eventSource, eventName, awsRegion, sourceIPAddress, userAgent, requestParameters, responseElements, requestID, eventID, readOnly, eventType, managementEvent, recipientAccountId, eventCategory, tlsDetails, additionalEventData, resources, errorCode, errorMessage, vpcEndpointId, apiVersion, sharedEventID, sessionCredentialFromConsole]\n",
       "Index: []\n",
       "\n",
       "[0 rows x 26 columns]"
      ]
     },
     "execution_count": 6,
     "metadata": {},
     "output_type": "execute_result"
    }
   ],
   "source": [
    "awsc[(awsc['eventSource']=='cognito-idp.amazonaws.com')]"
   ]
  },
  {
   "cell_type": "code",
   "execution_count": 7,
   "id": "bb27bdf0",
   "metadata": {},
   "outputs": [],
   "source": [
    "users = pd.json_normalize(awsc['userIdentity']).merge(awsc[['eventTime','eventName','eventSource','awsRegion','errorCode']], left_index=True,right_index=True)"
   ]
  },
  {
   "cell_type": "code",
   "execution_count": 8,
   "id": "f98f7fd9",
   "metadata": {},
   "outputs": [],
   "source": [
    "users['userName'] = users['userName'].fillna(users['arn']).fillna(users['invokedBy']) \\\n",
    ".fillna(users['invokedBy']).fillna(users['principalId']).fillna('accountId')"
   ]
  },
  {
   "cell_type": "code",
   "execution_count": 9,
   "id": "2b13d481",
   "metadata": {},
   "outputs": [],
   "source": [
    "users = users[['eventTime','type','userName','eventName','eventSource','awsRegion','errorCode']]\n",
    "users = users.rename(columns = {'eventTime':'timestamp','userName':'Identifier','eventSource':'TargetService','errorCode':'Error'})\n"
   ]
  },
  {
   "cell_type": "code",
   "execution_count": 10,
   "id": "4b4895e9",
   "metadata": {},
   "outputs": [
    {
     "data": {
      "text/html": [
       "<div>\n",
       "<style scoped>\n",
       "    .dataframe tbody tr th:only-of-type {\n",
       "        vertical-align: middle;\n",
       "    }\n",
       "\n",
       "    .dataframe tbody tr th {\n",
       "        vertical-align: top;\n",
       "    }\n",
       "\n",
       "    .dataframe thead th {\n",
       "        text-align: right;\n",
       "    }\n",
       "</style>\n",
       "<table border=\"1\" class=\"dataframe\">\n",
       "  <thead>\n",
       "    <tr style=\"text-align: right;\">\n",
       "      <th></th>\n",
       "      <th>timestamp</th>\n",
       "      <th>type</th>\n",
       "      <th>Identifier</th>\n",
       "      <th>eventName</th>\n",
       "      <th>TargetService</th>\n",
       "      <th>awsRegion</th>\n",
       "      <th>Error</th>\n",
       "    </tr>\n",
       "  </thead>\n",
       "  <tbody>\n",
       "    <tr>\n",
       "      <th>100249</th>\n",
       "      <td>2023-03-14T11:23:25Z</td>\n",
       "      <td>IAMUser</td>\n",
       "      <td>cloud_user</td>\n",
       "      <td>StartInstances</td>\n",
       "      <td>ec2.amazonaws.com</td>\n",
       "      <td>us-east-1</td>\n",
       "      <td>NaN</td>\n",
       "    </tr>\n",
       "    <tr>\n",
       "      <th>100250</th>\n",
       "      <td>2023-03-14T11:23:25Z</td>\n",
       "      <td>IAMUser</td>\n",
       "      <td>cloud_user</td>\n",
       "      <td>StartInstances</td>\n",
       "      <td>ec2.amazonaws.com</td>\n",
       "      <td>us-east-1</td>\n",
       "      <td>NaN</td>\n",
       "    </tr>\n",
       "    <tr>\n",
       "      <th>100251</th>\n",
       "      <td>2023-03-14T11:23:25Z</td>\n",
       "      <td>IAMUser</td>\n",
       "      <td>cloud_user</td>\n",
       "      <td>StartInstances</td>\n",
       "      <td>ec2.amazonaws.com</td>\n",
       "      <td>us-east-1</td>\n",
       "      <td>NaN</td>\n",
       "    </tr>\n",
       "    <tr>\n",
       "      <th>100252</th>\n",
       "      <td>2023-03-14T11:23:25Z</td>\n",
       "      <td>IAMUser</td>\n",
       "      <td>cloud_user</td>\n",
       "      <td>StartInstances</td>\n",
       "      <td>ec2.amazonaws.com</td>\n",
       "      <td>us-east-1</td>\n",
       "      <td>NaN</td>\n",
       "    </tr>\n",
       "    <tr>\n",
       "      <th>100253</th>\n",
       "      <td>2023-03-14T11:23:25Z</td>\n",
       "      <td>IAMUser</td>\n",
       "      <td>cloud_user</td>\n",
       "      <td>StartInstances</td>\n",
       "      <td>ec2.amazonaws.com</td>\n",
       "      <td>us-east-1</td>\n",
       "      <td>NaN</td>\n",
       "    </tr>\n",
       "    <tr>\n",
       "      <th>...</th>\n",
       "      <td>...</td>\n",
       "      <td>...</td>\n",
       "      <td>...</td>\n",
       "      <td>...</td>\n",
       "      <td>...</td>\n",
       "      <td>...</td>\n",
       "      <td>...</td>\n",
       "    </tr>\n",
       "    <tr>\n",
       "      <th>103519</th>\n",
       "      <td>2023-04-20T19:59:27Z</td>\n",
       "      <td>IAMUser</td>\n",
       "      <td>cloud_user</td>\n",
       "      <td>GetCallerIdentity</td>\n",
       "      <td>sts.amazonaws.com</td>\n",
       "      <td>us-east-1</td>\n",
       "      <td>NaN</td>\n",
       "    </tr>\n",
       "    <tr>\n",
       "      <th>103520</th>\n",
       "      <td>2023-04-20T19:59:27Z</td>\n",
       "      <td>IAMUser</td>\n",
       "      <td>cloud_user</td>\n",
       "      <td>DescribeImages</td>\n",
       "      <td>ec2.amazonaws.com</td>\n",
       "      <td>us-east-1</td>\n",
       "      <td>NaN</td>\n",
       "    </tr>\n",
       "    <tr>\n",
       "      <th>103521</th>\n",
       "      <td>2023-04-20T19:59:27Z</td>\n",
       "      <td>IAMUser</td>\n",
       "      <td>cloud_user</td>\n",
       "      <td>DescribeAvailabilityZones</td>\n",
       "      <td>ec2.amazonaws.com</td>\n",
       "      <td>us-east-1</td>\n",
       "      <td>NaN</td>\n",
       "    </tr>\n",
       "    <tr>\n",
       "      <th>103522</th>\n",
       "      <td>2023-04-20T19:59:26Z</td>\n",
       "      <td>IAMUser</td>\n",
       "      <td>cloud_user</td>\n",
       "      <td>GetCallerIdentity</td>\n",
       "      <td>sts.amazonaws.com</td>\n",
       "      <td>us-east-1</td>\n",
       "      <td>NaN</td>\n",
       "    </tr>\n",
       "    <tr>\n",
       "      <th>103523</th>\n",
       "      <td>2023-04-20T19:59:26Z</td>\n",
       "      <td>IAMUser</td>\n",
       "      <td>cloud_user</td>\n",
       "      <td>GetCallerIdentity</td>\n",
       "      <td>sts.amazonaws.com</td>\n",
       "      <td>us-east-1</td>\n",
       "      <td>NaN</td>\n",
       "    </tr>\n",
       "  </tbody>\n",
       "</table>\n",
       "<p>3241 rows × 7 columns</p>\n",
       "</div>"
      ],
      "text/plain": [
       "                   timestamp     type  Identifier                  eventName  \\\n",
       "100249  2023-03-14T11:23:25Z  IAMUser  cloud_user             StartInstances   \n",
       "100250  2023-03-14T11:23:25Z  IAMUser  cloud_user             StartInstances   \n",
       "100251  2023-03-14T11:23:25Z  IAMUser  cloud_user             StartInstances   \n",
       "100252  2023-03-14T11:23:25Z  IAMUser  cloud_user             StartInstances   \n",
       "100253  2023-03-14T11:23:25Z  IAMUser  cloud_user             StartInstances   \n",
       "...                      ...      ...         ...                        ...   \n",
       "103519  2023-04-20T19:59:27Z  IAMUser  cloud_user          GetCallerIdentity   \n",
       "103520  2023-04-20T19:59:27Z  IAMUser  cloud_user             DescribeImages   \n",
       "103521  2023-04-20T19:59:27Z  IAMUser  cloud_user  DescribeAvailabilityZones   \n",
       "103522  2023-04-20T19:59:26Z  IAMUser  cloud_user          GetCallerIdentity   \n",
       "103523  2023-04-20T19:59:26Z  IAMUser  cloud_user          GetCallerIdentity   \n",
       "\n",
       "            TargetService  awsRegion Error  \n",
       "100249  ec2.amazonaws.com  us-east-1   NaN  \n",
       "100250  ec2.amazonaws.com  us-east-1   NaN  \n",
       "100251  ec2.amazonaws.com  us-east-1   NaN  \n",
       "100252  ec2.amazonaws.com  us-east-1   NaN  \n",
       "100253  ec2.amazonaws.com  us-east-1   NaN  \n",
       "...                   ...        ...   ...  \n",
       "103519  sts.amazonaws.com  us-east-1   NaN  \n",
       "103520  ec2.amazonaws.com  us-east-1   NaN  \n",
       "103521  ec2.amazonaws.com  us-east-1   NaN  \n",
       "103522  sts.amazonaws.com  us-east-1   NaN  \n",
       "103523  sts.amazonaws.com  us-east-1   NaN  \n",
       "\n",
       "[3241 rows x 7 columns]"
      ]
     },
     "execution_count": 10,
     "metadata": {},
     "output_type": "execute_result"
    }
   ],
   "source": [
    "users[users['Identifier']=='cloud_user']\n"
   ]
  },
  {
   "cell_type": "code",
   "execution_count": null,
   "id": "67d7fc6a",
   "metadata": {},
   "outputs": [],
   "source": []
  },
  {
   "cell_type": "code",
   "execution_count": 11,
   "id": "23e17beb",
   "metadata": {},
   "outputs": [],
   "source": [
    "li = []\n",
    "def change_name(name):\n",
    "    if name in event_categories:\n",
    "        return event_categories[name]\n",
    "    for key,value in starts_with_di.items():\n",
    "        for event_name in value:\n",
    "            if name.lower().startswith(event_name):\n",
    "                return key\n",
    "    for key,value in contains_di.items():\n",
    "        for event_name in value:\n",
    "            if event_name in name.lower():\n",
    "                return key\n",
    "    li.append(name)\n",
    "\n",
    "users['eventName'] = users['eventName'].apply(lambda name: change_name(name))"
   ]
  },
  {
   "cell_type": "code",
   "execution_count": 12,
   "id": "195c45e5",
   "metadata": {},
   "outputs": [
    {
     "data": {
      "text/plain": [
       "{'AcceptHandshake', 'AcceptVpcPeeringConnection'}"
      ]
     },
     "execution_count": 12,
     "metadata": {},
     "output_type": "execute_result"
    }
   ],
   "source": [
    "set(li)"
   ]
  },
  {
   "cell_type": "code",
   "execution_count": 13,
   "id": "b5000f46",
   "metadata": {},
   "outputs": [],
   "source": [
    "users['timestamp'] = pd.to_datetime(users['timestamp']).map(pd.Timestamp.timestamp).map(int)\n",
    "users = users.sort_values('timestamp',ascending=True,ignore_index=True)"
   ]
  },
  {
   "cell_type": "code",
   "execution_count": 14,
   "id": "a07a3628",
   "metadata": {},
   "outputs": [
    {
     "data": {
      "text/plain": [
       "timestamp        58836\n",
       "type                 5\n",
       "Identifier          32\n",
       "eventName           13\n",
       "TargetService       56\n",
       "awsRegion           15\n",
       "Error               68\n",
       "dtype: int64"
      ]
     },
     "execution_count": 14,
     "metadata": {},
     "output_type": "execute_result"
    }
   ],
   "source": [
    "users['Identifier'] = users['Identifier'].apply(lambda x : x if (len(x.split(\":\"))!=2) else x.split(\":\")[1])\n",
    "users.nunique()"
   ]
  },
  {
   "cell_type": "code",
   "execution_count": 15,
   "id": "3e3b8b38",
   "metadata": {},
   "outputs": [],
   "source": [
    "# users['identity-target'] = \"source-\"+users['Identifier'] + \"|\" + \"target-\"+ users['TargetService']\n",
    "users['identity-event'] = \"source-\"+users['Identifier'] + \"|\" + \"action-\"+users['eventName']\n",
    "users['event-target'] = \"action-\"+ users['eventName'] + \"|\" + \"target-\"+ users['TargetService']\n",
    "users = users[users['eventName'].notna()]"
   ]
  },
  {
   "cell_type": "code",
   "execution_count": 16,
   "id": "114cd803",
   "metadata": {},
   "outputs": [
    {
     "data": {
      "text/html": [
       "<div>\n",
       "<style scoped>\n",
       "    .dataframe tbody tr th:only-of-type {\n",
       "        vertical-align: middle;\n",
       "    }\n",
       "\n",
       "    .dataframe tbody tr th {\n",
       "        vertical-align: top;\n",
       "    }\n",
       "\n",
       "    .dataframe thead th {\n",
       "        text-align: right;\n",
       "    }\n",
       "</style>\n",
       "<table border=\"1\" class=\"dataframe\">\n",
       "  <thead>\n",
       "    <tr style=\"text-align: right;\">\n",
       "      <th></th>\n",
       "      <th>timestamp</th>\n",
       "      <th>type</th>\n",
       "      <th>Identifier</th>\n",
       "      <th>eventName</th>\n",
       "      <th>TargetService</th>\n",
       "      <th>awsRegion</th>\n",
       "      <th>Error</th>\n",
       "      <th>identity-event</th>\n",
       "      <th>event-target</th>\n",
       "    </tr>\n",
       "  </thead>\n",
       "  <tbody>\n",
       "    <tr>\n",
       "      <th>0</th>\n",
       "      <td>1486929426</td>\n",
       "      <td>Root</td>\n",
       "      <td>arn:aws:iam::811596193553:root</td>\n",
       "      <td>ListResources</td>\n",
       "      <td>s3.amazonaws.com</td>\n",
       "      <td>us-east-1</td>\n",
       "      <td>NaN</td>\n",
       "      <td>source-arn:aws:iam::811596193553:root|action-L...</td>\n",
       "      <td>action-ListResources|target-s3.amazonaws.com</td>\n",
       "    </tr>\n",
       "    <tr>\n",
       "      <th>1</th>\n",
       "      <td>1486929550</td>\n",
       "      <td>Root</td>\n",
       "      <td>arn:aws:iam::811596193553:root</td>\n",
       "      <td>ListResources</td>\n",
       "      <td>iam.amazonaws.com</td>\n",
       "      <td>us-east-1</td>\n",
       "      <td>NaN</td>\n",
       "      <td>source-arn:aws:iam::811596193553:root|action-L...</td>\n",
       "      <td>action-ListResources|target-iam.amazonaws.com</td>\n",
       "    </tr>\n",
       "    <tr>\n",
       "      <th>2</th>\n",
       "      <td>1486929550</td>\n",
       "      <td>Root</td>\n",
       "      <td>arn:aws:iam::811596193553:root</td>\n",
       "      <td>ListResources</td>\n",
       "      <td>iam.amazonaws.com</td>\n",
       "      <td>us-east-1</td>\n",
       "      <td>NaN</td>\n",
       "      <td>source-arn:aws:iam::811596193553:root|action-L...</td>\n",
       "      <td>action-ListResources|target-iam.amazonaws.com</td>\n",
       "    </tr>\n",
       "    <tr>\n",
       "      <th>3</th>\n",
       "      <td>1486929550</td>\n",
       "      <td>Root</td>\n",
       "      <td>arn:aws:iam::811596193553:root</td>\n",
       "      <td>GetInfo</td>\n",
       "      <td>iam.amazonaws.com</td>\n",
       "      <td>us-east-1</td>\n",
       "      <td>NaN</td>\n",
       "      <td>source-arn:aws:iam::811596193553:root|action-G...</td>\n",
       "      <td>action-GetInfo|target-iam.amazonaws.com</td>\n",
       "    </tr>\n",
       "    <tr>\n",
       "      <th>4</th>\n",
       "      <td>1486929550</td>\n",
       "      <td>Root</td>\n",
       "      <td>arn:aws:iam::811596193553:root</td>\n",
       "      <td>GetInfo</td>\n",
       "      <td>iam.amazonaws.com</td>\n",
       "      <td>us-east-1</td>\n",
       "      <td>NoSuchEntityException</td>\n",
       "      <td>source-arn:aws:iam::811596193553:root|action-G...</td>\n",
       "      <td>action-GetInfo|target-iam.amazonaws.com</td>\n",
       "    </tr>\n",
       "  </tbody>\n",
       "</table>\n",
       "</div>"
      ],
      "text/plain": [
       "    timestamp  type                      Identifier      eventName  \\\n",
       "0  1486929426  Root  arn:aws:iam::811596193553:root  ListResources   \n",
       "1  1486929550  Root  arn:aws:iam::811596193553:root  ListResources   \n",
       "2  1486929550  Root  arn:aws:iam::811596193553:root  ListResources   \n",
       "3  1486929550  Root  arn:aws:iam::811596193553:root        GetInfo   \n",
       "4  1486929550  Root  arn:aws:iam::811596193553:root        GetInfo   \n",
       "\n",
       "       TargetService  awsRegion                  Error  \\\n",
       "0   s3.amazonaws.com  us-east-1                    NaN   \n",
       "1  iam.amazonaws.com  us-east-1                    NaN   \n",
       "2  iam.amazonaws.com  us-east-1                    NaN   \n",
       "3  iam.amazonaws.com  us-east-1                    NaN   \n",
       "4  iam.amazonaws.com  us-east-1  NoSuchEntityException   \n",
       "\n",
       "                                      identity-event  \\\n",
       "0  source-arn:aws:iam::811596193553:root|action-L...   \n",
       "1  source-arn:aws:iam::811596193553:root|action-L...   \n",
       "2  source-arn:aws:iam::811596193553:root|action-L...   \n",
       "3  source-arn:aws:iam::811596193553:root|action-G...   \n",
       "4  source-arn:aws:iam::811596193553:root|action-G...   \n",
       "\n",
       "                                    event-target  \n",
       "0   action-ListResources|target-s3.amazonaws.com  \n",
       "1  action-ListResources|target-iam.amazonaws.com  \n",
       "2  action-ListResources|target-iam.amazonaws.com  \n",
       "3        action-GetInfo|target-iam.amazonaws.com  \n",
       "4        action-GetInfo|target-iam.amazonaws.com  "
      ]
     },
     "execution_count": 16,
     "metadata": {},
     "output_type": "execute_result"
    }
   ],
   "source": [
    "users.head()"
   ]
  },
  {
   "cell_type": "code",
   "execution_count": 17,
   "id": "c5138c68",
   "metadata": {},
   "outputs": [],
   "source": [
    "users['Identifier'] = users['Identifier'].apply(lambda x : f\"source-{x}\")\n",
    "users['TargetService'] = users['TargetService'].apply(lambda x : f\"target-{x}\")\n",
    "users['eventName'] = users['eventName'].apply(lambda x : f\"action-{x}\")"
   ]
  },
  {
   "cell_type": "code",
   "execution_count": 18,
   "id": "b929870b",
   "metadata": {},
   "outputs": [],
   "source": [
    "def get_time_df(start,end,minutes,df,col='timestamp'):\n",
    "    minutes = minutes * 60\n",
    "    df_list = []\n",
    "    start_time = start\n",
    "    while start < end:\n",
    "        cur_df = df[(df[col] >= start_time) & (df[col] < start+minutes)]\n",
    "        if len(cur_df):\n",
    "            df_list.append(df[(df[col] >= start_time) & (df[col] < start+minutes)])\n",
    "        start+=minutes\n",
    "    return df_list"
   ]
  },
  {
   "cell_type": "code",
   "execution_count": 19,
   "id": "167ba45a",
   "metadata": {},
   "outputs": [],
   "source": [
    "df_list = get_time_df(users['timestamp'].iloc[0],users['timestamp'].iloc[-1],60*60*24,users)"
   ]
  },
  {
   "cell_type": "code",
   "execution_count": 20,
   "id": "27100be2",
   "metadata": {},
   "outputs": [
    {
     "data": {
      "text/plain": [
       "38"
      ]
     },
     "execution_count": 20,
     "metadata": {},
     "output_type": "execute_result"
    }
   ],
   "source": [
    "len(df_list)"
   ]
  },
  {
   "cell_type": "markdown",
   "id": "f05afd49",
   "metadata": {},
   "source": [
    "# Create the graph"
   ]
  },
  {
   "cell_type": "code",
   "execution_count": 21,
   "id": "44258c56",
   "metadata": {},
   "outputs": [],
   "source": [
    "nodes = ['Identifier','eventName','TargetService']\n",
    "edges = ['identity-event','event-target']\n"
   ]
  },
  {
   "cell_type": "code",
   "execution_count": 22,
   "id": "d1c8fde2",
   "metadata": {},
   "outputs": [],
   "source": [
    "def add_nodes(g,df,col,x,jump=10):\n",
    "    y = 10\n",
    "    unique_nodes = df[col].unique()\n",
    "    for i in unique_nodes:\n",
    "        if i!= None:\n",
    "            g.add_node(f'{i}',pos=(x,y))\n",
    "            y+=jump\n",
    "#     for i in range(len(unique_nodes)-1):\n",
    "#         g.add_edge(unique_nodes[i],unique_nodes[i+1])\n",
    "\n",
    "def add_edges(g,df,col):\n",
    "    edges = df[col].value_counts()\n",
    "    edges = edges/edges.max()\n",
    "    for node,value in edges.items():\n",
    "        start_node,end_node = node.split('|')\n",
    "        if \"None\" not in start_node and \"None\" not in end_node:\n",
    "            g.add_edge(start_node, end_node, weight=value)"
   ]
  },
  {
   "cell_type": "code",
   "execution_count": 23,
   "id": "816e3767",
   "metadata": {},
   "outputs": [],
   "source": [
    "def generate_graph(G,df_nodes,df_edges):  \n",
    "    x = 10\n",
    "#     nodes_li = []\n",
    "    for node in nodes:\n",
    "        add_nodes(G,df_nodes,node,x,100)\n",
    "        x+=1\n",
    "#         nodes_li.append(df_nodes[node].unique())\n",
    "#     for i in range(len(nodes_li)-1):\n",
    "#         for node1 in nodes_li[i]:\n",
    "#             for node2 in nodes_li[i+1]:\n",
    "#                 G.add_edge(node1,node2,weight=0)\n",
    "    for edge in edges:\n",
    "        add_edges(G,df_edges,edge)"
   ]
  },
  {
   "cell_type": "code",
   "execution_count": 24,
   "id": "9a46acc4",
   "metadata": {},
   "outputs": [],
   "source": [
    "G = nx.Graph()"
   ]
  },
  {
   "cell_type": "code",
   "execution_count": 25,
   "id": "7553e378",
   "metadata": {},
   "outputs": [],
   "source": [
    "generate_graph(G,users,users)"
   ]
  },
  {
   "cell_type": "code",
   "execution_count": 26,
   "id": "c527219d",
   "metadata": {},
   "outputs": [],
   "source": [
    "def generate_graphs(df,df_list):\n",
    "    li = []\n",
    "    for data in df_list:\n",
    "        G = nx.Graph()\n",
    "        generate_graph(G,df,data)\n",
    "        li.append(G)\n",
    "    return li"
   ]
  },
  {
   "cell_type": "code",
   "execution_count": 27,
   "id": "e0ed3a1d",
   "metadata": {},
   "outputs": [],
   "source": [
    "graphs = generate_graphs(users,df_list)"
   ]
  },
  {
   "cell_type": "code",
   "execution_count": 28,
   "id": "2cbabcd6",
   "metadata": {},
   "outputs": [],
   "source": [
    "# from pylab import rcParams\n",
    "# rcParams['figure.figsize'] = 14, 10\n",
    "# pos=nx.get_node_attributes(G,'pos')\n",
    "# # pos = nx.spring_layout(G, scale=20, k=3/np.sqrt(G.order()))\n",
    "# d = dict(G.degree)\n",
    "# nx.draw(G, pos, node_color='lightblue', \n",
    "#         with_labels=True, \n",
    "#         nodelist=d, \n",
    "#         node_size=[d[k]*300 for k in d])\n",
    "# labels = nx.get_edge_attributes(G,'weight')\n",
    "# nx.draw_networkx_edge_labels(G,pos,edge_labels=labels,font_size=5)\n",
    "# import matplotlib.pyplot as plt\n",
    "# plt.savefig(f'plotgraph.png', dpi=300, bbox_inches='tight')\n",
    "\n",
    "\n",
    "# pos=nx.get_node_attributes(G,'pos')\n",
    "# nx.draw(G,pos)\n",
    "# plt.show()"
   ]
  },
  {
   "cell_type": "code",
   "execution_count": 29,
   "id": "9e71db0c",
   "metadata": {},
   "outputs": [],
   "source": [
    "# from sklearn.manifold import SpectralEmbedding\n",
    "# embedding = SpectralEmbedding(n_components=74)\n",
    "# X = embedding.fit_transform(df)\n",
    "walk_length = 20  # maximum length of a random walk to use throughout this notebook"
   ]
  },
  {
   "cell_type": "code",
   "execution_count": 30,
   "id": "330c5a29",
   "metadata": {},
   "outputs": [],
   "source": [
    "def gen_stellar(graphs):\n",
    "    stellar_list = []\n",
    "    for G in graphs:\n",
    "        G = StellarGraph.from_networkx(G)\n",
    "        rw = BiasedRandomWalk(G)\n",
    "        stellar_list.append((G,rw))\n",
    "    return stellar_list"
   ]
  },
  {
   "cell_type": "code",
   "execution_count": 31,
   "id": "994395be",
   "metadata": {},
   "outputs": [],
   "source": [
    "def weighted_walks_graphs(SL):\n",
    "    WW = []\n",
    "    for G,rw in SL:\n",
    "        weighted_walks = rw.run(\n",
    "          nodes=G.nodes(),  # root nodes\n",
    "          length=walk_length,  # maximum length of a random walk\n",
    "          n=10,  # number of random walks per root node\n",
    "          p=0.5,  # Defines (unormalised) probability, 1/p, of returning to source node\n",
    "          q=2.0,  # Defines (unormalised) probability, 1/q, for moving away from source node\n",
    "          weighted=True,  # for weighted random walks\n",
    "          seed=42,  # random seed fixed for reproducibility\n",
    "        )\n",
    "        WW.append(weighted_walks)\n",
    "    return WW"
   ]
  },
  {
   "cell_type": "code",
   "execution_count": 32,
   "id": "d7beed78",
   "metadata": {},
   "outputs": [],
   "source": [
    "def weighted_models(WW):\n",
    "    w2v_models = []\n",
    "    for weighted_walks in WW:\n",
    "        weighted_model = Word2Vec(\n",
    "          weighted_walks, vector_size=128, window=5, min_count=0, sg=1, workers=1,\n",
    "        )\n",
    "        w2v_models.append(weighted_model)\n",
    "    return w2v_models"
   ]
  },
  {
   "cell_type": "code",
   "execution_count": 33,
   "id": "adebd326",
   "metadata": {},
   "outputs": [],
   "source": [
    "def node_embedding(weighted_model_list):\n",
    "    embedding = []\n",
    "    for weighted_model in weighted_model_list:\n",
    "        node_ids = weighted_model.wv.index_to_key  # list of node IDs\n",
    "        weighted_node_embeddings = (\n",
    "          weighted_model.wv.vectors\n",
    "        ) \n",
    "        embedding.append((node_ids,weighted_node_embeddings))\n",
    "    return embedding"
   ]
  },
  {
   "cell_type": "code",
   "execution_count": 34,
   "id": "d73d1d0b",
   "metadata": {},
   "outputs": [],
   "source": [
    "def d2_graphs(embedding):\n",
    "    embedding2d_annotation = []\n",
    "    for node_ids,weighted_node_embeddings in embedding:\n",
    "        tsne = TSNE(n_components=2, random_state=42)\n",
    "        weighted_node_embeddings_2d = tsne.fit_transform(weighted_node_embeddings)\n",
    "        embedding2d_annotation.append((node_ids,weighted_node_embeddings_2d))\n",
    "    return embedding2d_annotation"
   ]
  },
  {
   "cell_type": "code",
   "execution_count": 35,
   "id": "381f1f7c",
   "metadata": {},
   "outputs": [],
   "source": [
    "SL = gen_stellar([G])\n",
    "WW = weighted_walks_graphs(SL)\n",
    "weighted_model_list = weighted_models(WW)\n",
    "embedding = node_embedding(weighted_model_list)\n",
    "d2_graphs_list = d2_graphs(embedding)\n",
    "X = d2_graphs_list[0][1]"
   ]
  },
  {
   "cell_type": "code",
   "execution_count": 36,
   "id": "1a3166c4",
   "metadata": {},
   "outputs": [],
   "source": [
    "df_from_graphs = []\n",
    "for graph in graphs:\n",
    "    df_from_graphs.append(nx.to_pandas_adjacency(graph, dtype=float))"
   ]
  },
  {
   "cell_type": "code",
   "execution_count": 37,
   "id": "e4fa83b4",
   "metadata": {},
   "outputs": [],
   "source": [
    "distance_df = pd.DataFrame(0, index=embedding[0][0], columns=embedding[0][0])"
   ]
  },
  {
   "cell_type": "code",
   "execution_count": 38,
   "id": "9c46b99b",
   "metadata": {},
   "outputs": [
    {
     "data": {
      "text/plain": [
       "14"
      ]
     },
     "execution_count": 38,
     "metadata": {},
     "output_type": "execute_result"
    }
   ],
   "source": [
    "d2_graphs_list[0][0].index('source-cloud_user')"
   ]
  },
  {
   "cell_type": "code",
   "execution_count": 39,
   "id": "8cf972dc",
   "metadata": {},
   "outputs": [
    {
     "data": {
      "image/png": "[encoded data removed]",
      "text/plain": [
       "<Figure size 640x480 with 1 Axes>"
      ]
     },
     "metadata": {},
     "output_type": "display_data"
    }
   ],
   "source": [
    "fig, ax = plt.subplots()\n",
    "ax.scatter(X[:, 0], X[:, 1])\n",
    "\n",
    "for i, txt in enumerate(X):\n",
    "    ax.annotate(i, (txt[0], txt[1]))"
   ]
  },
  {
   "cell_type": "code",
   "execution_count": 40,
   "id": "b8c9f497",
   "metadata": {},
   "outputs": [],
   "source": [
    "X = embedding[0][1]"
   ]
  },
  {
   "cell_type": "code",
   "execution_count": 41,
   "id": "844ce233",
   "metadata": {},
   "outputs": [
    {
     "data": {
      "text/plain": [
       "array([[-0.05467423,  0.18843704,  0.13247198, ...,  0.037698  ,\n",
       "        -0.00837755,  0.07673765],\n",
       "       [-0.05287617,  0.18428566,  0.12796752, ...,  0.00452778,\n",
       "        -0.01369869,  0.04638765],\n",
       "       [-0.06852262,  0.19514962,  0.05105248, ...,  0.01332113,\n",
       "         0.04888534,  0.10067669],\n",
       "       ...,\n",
       "       [-0.0066047 ,  0.0185806 ,  0.0048096 , ..., -0.07370481,\n",
       "         0.00417251,  0.05837211],\n",
       "       [ 0.00752305,  0.00381941,  0.03489884, ..., -0.06528073,\n",
       "        -0.03127705,  0.04949336],\n",
       "       [ 0.0095393 , -0.02238435,  0.04822706, ..., -0.07513834,\n",
       "        -0.02978317,  0.04934648]], dtype=float32)"
      ]
     },
     "execution_count": 41,
     "metadata": {},
     "output_type": "execute_result"
    }
   ],
   "source": [
    "X"
   ]
  },
  {
   "cell_type": "code",
   "execution_count": 42,
   "id": "fff72eee",
   "metadata": {},
   "outputs": [
    {
     "name": "stdout",
     "output_type": "stream",
     "text": [
      "action-ListResources\n",
      "action-GetInfo\n",
      "action-CreateObject\n",
      "action-AssociateResources\n",
      "action-EnableObjects\n",
      "action-GrantPermissions\n",
      "action-ModifyExistingResource\n",
      "action-Delete\n",
      "action-Login\n",
      "action-RemovePermissions\n",
      "action-Download/UploadObjects\n"
     ]
    }
   ],
   "source": [
    "from sklearn.neighbors import NearestNeighbors\n",
    "a = 1\n",
    "for df_graph in df_from_graphs:\n",
    "#     a+=1\n",
    "    target_cols = [col for col in df_graph.columns if 'action' in col]\n",
    "#     if a == 2:\n",
    "#         print(target_cols)\n",
    "    for col in target_cols:\n",
    "        index_di = {}\n",
    "        index_to_pd_index = {}\n",
    "        nodes = df_graph[col].loc[df_graph[col]>0]\n",
    "        node_di = {key:value for key,value in nodes.items() if 'source-' in key}\n",
    "        if \"source-cloud_user\" in node_di.keys():\n",
    "            print(col)\n",
    "        for i,other in enumerate(node_di.items()):\n",
    "            ind,_=other\n",
    "            pd_index = d2_graphs_list[0][0].index(ind)\n",
    "            index_di[pd_index] = ind\n",
    "            index_to_pd_index[i] = ind\n",
    "        if len(index_di) > 1:\n",
    "            x = X[list(index_di.keys())]\n",
    "            nbrs = NearestNeighbors(n_neighbors=2, algorithm='ball_tree').fit(x)\n",
    "            distances, indices = nbrs.kneighbors(x)\n",
    "            for i,other in enumerate(index_di.items()):\n",
    "                key,value = other\n",
    "                nearest_neighbor = indices[i][1]\n",
    "                nearest_neighbor_ind = index_to_pd_index[nearest_neighbor]\n",
    "                if distance_df.loc[value,nearest_neighbor_ind] <  distances[i][1]*a:\n",
    "                    distance_df.loc[value,nearest_neighbor_ind] = distances[i][1]*a"
   ]
  },
  {
   "cell_type": "code",
   "execution_count": 43,
   "id": "ee3e139f",
   "metadata": {},
   "outputs": [],
   "source": [
    "cols = [c for c in distance_df.columns if 'action' not in c and 'target' not in c]\n",
    "\n",
    "distance_df = distance_df[cols].drop(distance_df.columns.difference(cols))"
   ]
  },
  {
   "cell_type": "code",
   "execution_count": 44,
   "id": "80eaf6a3",
   "metadata": {},
   "outputs": [],
   "source": [
    "result = nx.from_pandas_adjacency(distance_df)"
   ]
  },
  {
   "cell_type": "code",
   "execution_count": 45,
   "id": "7c155ca3",
   "metadata": {},
   "outputs": [],
   "source": [
    "pos_di = {}\n",
    "for i in range(len(d2_graphs_list[0][0])):\n",
    "    if 'source' in d2_graphs_list[0][0][i]:\n",
    "        pos_di[d2_graphs_list[0][0][i]] = d2_graphs_list[0][1][i]"
   ]
  },
  {
   "cell_type": "code",
   "execution_count": 46,
   "id": "c8ab0668",
   "metadata": {},
   "outputs": [
    {
     "data": {
      "image/png": "[encoded data removed]",
      "text/plain": [
       "<Figure size 640x480 with 1 Axes>"
      ]
     },
     "metadata": {},
     "output_type": "display_data"
    }
   ],
   "source": [
    "\n",
    "color_map = ['red' if node == 'source-cloud_user' else 'green' for node in result]        \n",
    "# pos=nx.spring_layout(result) # pos = nx.nx_agraph.graphviz_layout(G)\n",
    "nx.draw(result,pos=pos_di,node_color=color_map)\n",
    "# labels = nx.get_edge_attributes(result,'weight')\n",
    "# nx.draw_networkx_edge_labels(result,pos=pos)\n",
    "plt.savefig(\"res.png\")"
   ]
  },
  {
   "cell_type": "code",
   "execution_count": 47,
   "id": "ac5d999a",
   "metadata": {
    "scrolled": false
   },
   "outputs": [
    {
     "data": {
      "text/plain": [
       "source-backup                                                                                           0.000000\n",
       "source-Level6                                                                                           0.000000\n",
       "source-arn:aws:sts::811596193553:assumed-role/SecurityMonkey/secmonkey                                  0.000000\n",
       "source-arn:aws:iam::811596193553:root                                                                   2.115817\n",
       "source-ec2.amazonaws.com                                                                                0.000000\n",
       "source-arn:aws:sts::811596193553:assumed-role/SecurityMonkey/cloudaux                                   0.000000\n",
       "source-cloud_user                                                                                       0.000000\n",
       "source-SecurityMokey                                                                                    0.000000\n",
       "source-config.amazonaws.com                                                                             0.000000\n",
       "source-arn:aws:sts::811596193553:assumed-role/Level6/Level6                                             0.000000\n",
       "source-arn:aws:sts::811596193553:assumed-role/Cloudsploit/cloudsploit_scan                              0.000000\n",
       "source-arn:aws:sts::811596193553:assumed-role/flaws/i-aa2d3b42e5c6e801a                                 1.977483\n",
       "source-arn:aws:sts::811596193553:assumed-role/final_instance/i-0a427bfae3dae42ae                        1.856283\n",
       "source-lambda.amazonaws.com                                                                             0.000000\n",
       "source-arn:aws:sts::811596193553:assumed-role/config-role-us-west-2/AWSConfig-Describe                  0.000000\n",
       "source-piper                                                                                            2.014300\n",
       "source-AIDAS6VXHZ3PBMIBVP1P2                                                                            0.000000\n",
       "source-Level5                                                                                           0.000000\n",
       "source-arn:aws:sts::811596193553:assumed-role/flask-server/i-0d6d1080e1184b9b4                          0.000000\n",
       "source-flaws                                                                                            1.820080\n",
       "source-arn:aws:sts::811596193553:assumed-role/level6/level6                                             0.000000\n",
       "source-vpc_peering                                                                                      0.000000\n",
       "source-arn:aws:sts::811596193553:assumed-role/backend_server/i-0e113c6c02d37490f                        0.000000\n",
       "source-arn:aws:sts::811596193553:assumed-role/final_instance/i-0a427bfae3dae42ae                        0.000000\n",
       "source-arn:aws:sts::811596193553:assumed-role/SummitRouteAudit/audit                                    0.000000\n",
       "source-AIDA8M82W7I80M2DIZCF5                                                                            0.000000\n",
       "source-arn:aws:sts::811596193553:assumed-role/config-role-us-west-2/AWSConfig-BucketConfigCheck         0.000000\n",
       "source-cloudsploit-api                                                                                  0.000000\n",
       "source-HIDDEN_DUE_TO_SECURITY_REASONS                                                                   0.000000\n",
       "source-arn:aws:sts::811596193553:assumed-role/lambda_basic_execution/Level6                             0.000000\n",
       "source-arn:aws:sts::811596193553:assumed-role/level5/level5                                             0.000000\n",
       "source-arn:aws:sts::811596193553:assumed-role/level6/level6-ec1335a148b902503664e2d162fcdaa98c224ea5    0.000000\n",
       "Name: source-cloud_user, dtype: float64"
      ]
     },
     "execution_count": 47,
     "metadata": {},
     "output_type": "execute_result"
    }
   ],
   "source": [
    "distance_df.loc['source-cloud_user']"
   ]
  },
  {
   "cell_type": "code",
   "execution_count": 48,
   "id": "7612440b",
   "metadata": {},
   "outputs": [
    {
     "data": {
      "text/plain": [
       "source-backup                                                                                           0.000000\n",
       "source-Level6                                                                                           0.000000\n",
       "source-arn:aws:sts::811596193553:assumed-role/SecurityMonkey/secmonkey                                  0.000000\n",
       "source-arn:aws:iam::811596193553:root                                                                   2.115817\n",
       "source-ec2.amazonaws.com                                                                                0.000000\n",
       "source-arn:aws:sts::811596193553:assumed-role/SecurityMonkey/cloudaux                                   0.000000\n",
       "source-cloud_user                                                                                       0.000000\n",
       "source-SecurityMokey                                                                                    0.000000\n",
       "source-config.amazonaws.com                                                                             0.000000\n",
       "source-arn:aws:sts::811596193553:assumed-role/Level6/Level6                                             0.000000\n",
       "source-arn:aws:sts::811596193553:assumed-role/Cloudsploit/cloudsploit_scan                              0.000000\n",
       "source-arn:aws:sts::811596193553:assumed-role/flaws/i-aa2d3b42e5c6e801a                                 0.000000\n",
       "source-arn:aws:sts::811596193553:assumed-role/final_instance/i-0a427bfae3dae42ae                        0.000000\n",
       "source-lambda.amazonaws.com                                                                             0.000000\n",
       "source-arn:aws:sts::811596193553:assumed-role/config-role-us-west-2/AWSConfig-Describe                  0.000000\n",
       "source-piper                                                                                            0.000000\n",
       "source-AIDAS6VXHZ3PBMIBVP1P2                                                                            0.000000\n",
       "source-Level5                                                                                           0.000000\n",
       "source-arn:aws:sts::811596193553:assumed-role/flask-server/i-0d6d1080e1184b9b4                          0.000000\n",
       "source-flaws                                                                                            0.000000\n",
       "source-arn:aws:sts::811596193553:assumed-role/level6/level6                                             0.000000\n",
       "source-vpc_peering                                                                                      0.000000\n",
       "source-arn:aws:sts::811596193553:assumed-role/backend_server/i-0e113c6c02d37490f                        0.000000\n",
       "source-arn:aws:sts::811596193553:assumed-role/final_instance/i-0a427bfae3dae42ae                        0.000000\n",
       "source-arn:aws:sts::811596193553:assumed-role/SummitRouteAudit/audit                                    0.000000\n",
       "source-AIDA8M82W7I80M2DIZCF5                                                                            0.000000\n",
       "source-arn:aws:sts::811596193553:assumed-role/config-role-us-west-2/AWSConfig-BucketConfigCheck         0.000000\n",
       "source-cloudsploit-api                                                                                  0.000000\n",
       "source-HIDDEN_DUE_TO_SECURITY_REASONS                                                                   0.000000\n",
       "source-arn:aws:sts::811596193553:assumed-role/lambda_basic_execution/Level6                             0.000000\n",
       "source-arn:aws:sts::811596193553:assumed-role/level5/level5                                             0.000000\n",
       "source-arn:aws:sts::811596193553:assumed-role/level6/level6-ec1335a148b902503664e2d162fcdaa98c224ea5    0.000000\n",
       "Name: source-cloud_user, dtype: float64"
      ]
     },
     "execution_count": 48,
     "metadata": {},
     "output_type": "execute_result"
    }
   ],
   "source": [
    "distance_df['source-cloud_user']"
   ]
  },
  {
   "cell_type": "code",
   "execution_count": 49,
   "id": "cf83a651",
   "metadata": {},
   "outputs": [
    {
     "data": {
      "text/html": [
       "<div>\n",
       "<style scoped>\n",
       "    .dataframe tbody tr th:only-of-type {\n",
       "        vertical-align: middle;\n",
       "    }\n",
       "\n",
       "    .dataframe tbody tr th {\n",
       "        vertical-align: top;\n",
       "    }\n",
       "\n",
       "    .dataframe thead th {\n",
       "        text-align: right;\n",
       "    }\n",
       "</style>\n",
       "<table border=\"1\" class=\"dataframe\">\n",
       "  <thead>\n",
       "    <tr style=\"text-align: right;\">\n",
       "      <th></th>\n",
       "      <th>source-backup</th>\n",
       "      <th>source-Level6</th>\n",
       "      <th>source-arn:aws:sts::811596193553:assumed-role/SecurityMonkey/secmonkey</th>\n",
       "      <th>source-arn:aws:iam::811596193553:root</th>\n",
       "      <th>source-ec2.amazonaws.com</th>\n",
       "      <th>source-arn:aws:sts::811596193553:assumed-role/SecurityMonkey/cloudaux</th>\n",
       "      <th>source-cloud_user</th>\n",
       "      <th>source-SecurityMokey</th>\n",
       "      <th>source-config.amazonaws.com</th>\n",
       "      <th>source-arn:aws:sts::811596193553:assumed-role/Level6/Level6</th>\n",
       "      <th>...</th>\n",
       "      <th>source-arn:aws:sts::811596193553:assumed-role/backend_server/i-0e113c6c02d37490f</th>\n",
       "      <th>source-arn:aws:sts::811596193553:assumed-role/final_instance/i-0a427bfae3dae42ae</th>\n",
       "      <th>source-arn:aws:sts::811596193553:assumed-role/SummitRouteAudit/audit</th>\n",
       "      <th>source-AIDA8M82W7I80M2DIZCF5</th>\n",
       "      <th>source-arn:aws:sts::811596193553:assumed-role/config-role-us-west-2/AWSConfig-BucketConfigCheck</th>\n",
       "      <th>source-cloudsploit-api</th>\n",
       "      <th>source-HIDDEN_DUE_TO_SECURITY_REASONS</th>\n",
       "      <th>source-arn:aws:sts::811596193553:assumed-role/lambda_basic_execution/Level6</th>\n",
       "      <th>source-arn:aws:sts::811596193553:assumed-role/level5/level5</th>\n",
       "      <th>source-arn:aws:sts::811596193553:assumed-role/level6/level6-ec1335a148b902503664e2d162fcdaa98c224ea5</th>\n",
       "    </tr>\n",
       "  </thead>\n",
       "  <tbody>\n",
       "    <tr>\n",
       "      <th>source-backup</th>\n",
       "      <td>0.000000</td>\n",
       "      <td>0.000000</td>\n",
       "      <td>0</td>\n",
       "      <td>0.531863</td>\n",
       "      <td>0.0</td>\n",
       "      <td>0.341162</td>\n",
       "      <td>0.000000</td>\n",
       "      <td>0.000000</td>\n",
       "      <td>0.0</td>\n",
       "      <td>0</td>\n",
       "      <td>...</td>\n",
       "      <td>0.0</td>\n",
       "      <td>0.0</td>\n",
       "      <td>0.0</td>\n",
       "      <td>0.0</td>\n",
       "      <td>0</td>\n",
       "      <td>0.0</td>\n",
       "      <td>0.0</td>\n",
       "      <td>0.0</td>\n",
       "      <td>0</td>\n",
       "      <td>0</td>\n",
       "    </tr>\n",
       "    <tr>\n",
       "      <th>source-Level6</th>\n",
       "      <td>0.000000</td>\n",
       "      <td>0.000000</td>\n",
       "      <td>0</td>\n",
       "      <td>0.524189</td>\n",
       "      <td>0.0</td>\n",
       "      <td>0.000000</td>\n",
       "      <td>0.000000</td>\n",
       "      <td>0.000000</td>\n",
       "      <td>0.0</td>\n",
       "      <td>0</td>\n",
       "      <td>...</td>\n",
       "      <td>0.0</td>\n",
       "      <td>0.0</td>\n",
       "      <td>0.0</td>\n",
       "      <td>0.0</td>\n",
       "      <td>0</td>\n",
       "      <td>0.0</td>\n",
       "      <td>0.0</td>\n",
       "      <td>0.0</td>\n",
       "      <td>0</td>\n",
       "      <td>0</td>\n",
       "    </tr>\n",
       "    <tr>\n",
       "      <th>source-arn:aws:sts::811596193553:assumed-role/SecurityMonkey/secmonkey</th>\n",
       "      <td>0.000000</td>\n",
       "      <td>0.000000</td>\n",
       "      <td>0</td>\n",
       "      <td>0.285693</td>\n",
       "      <td>0.0</td>\n",
       "      <td>0.000000</td>\n",
       "      <td>0.000000</td>\n",
       "      <td>0.000000</td>\n",
       "      <td>0.0</td>\n",
       "      <td>0</td>\n",
       "      <td>...</td>\n",
       "      <td>0.0</td>\n",
       "      <td>0.0</td>\n",
       "      <td>0.0</td>\n",
       "      <td>0.0</td>\n",
       "      <td>0</td>\n",
       "      <td>0.0</td>\n",
       "      <td>0.0</td>\n",
       "      <td>0.0</td>\n",
       "      <td>0</td>\n",
       "      <td>0</td>\n",
       "    </tr>\n",
       "    <tr>\n",
       "      <th>source-arn:aws:iam::811596193553:root</th>\n",
       "      <td>0.531863</td>\n",
       "      <td>0.524189</td>\n",
       "      <td>0</td>\n",
       "      <td>0.000000</td>\n",
       "      <td>0.0</td>\n",
       "      <td>0.000000</td>\n",
       "      <td>2.115817</td>\n",
       "      <td>0.000000</td>\n",
       "      <td>0.0</td>\n",
       "      <td>0</td>\n",
       "      <td>...</td>\n",
       "      <td>0.0</td>\n",
       "      <td>0.0</td>\n",
       "      <td>0.0</td>\n",
       "      <td>0.0</td>\n",
       "      <td>0</td>\n",
       "      <td>0.0</td>\n",
       "      <td>0.0</td>\n",
       "      <td>0.0</td>\n",
       "      <td>0</td>\n",
       "      <td>0</td>\n",
       "    </tr>\n",
       "    <tr>\n",
       "      <th>source-ec2.amazonaws.com</th>\n",
       "      <td>0.000000</td>\n",
       "      <td>0.000000</td>\n",
       "      <td>0</td>\n",
       "      <td>0.000000</td>\n",
       "      <td>0.0</td>\n",
       "      <td>0.000000</td>\n",
       "      <td>0.000000</td>\n",
       "      <td>0.548697</td>\n",
       "      <td>0.0</td>\n",
       "      <td>0</td>\n",
       "      <td>...</td>\n",
       "      <td>0.0</td>\n",
       "      <td>0.0</td>\n",
       "      <td>0.0</td>\n",
       "      <td>0.0</td>\n",
       "      <td>0</td>\n",
       "      <td>0.0</td>\n",
       "      <td>0.0</td>\n",
       "      <td>0.0</td>\n",
       "      <td>0</td>\n",
       "      <td>0</td>\n",
       "    </tr>\n",
       "  </tbody>\n",
       "</table>\n",
       "<p>5 rows × 32 columns</p>\n",
       "</div>"
      ],
      "text/plain": [
       "                                                    source-backup  \\\n",
       "source-backup                                            0.000000   \n",
       "source-Level6                                            0.000000   \n",
       "source-arn:aws:sts::811596193553:assumed-role/S...       0.000000   \n",
       "source-arn:aws:iam::811596193553:root                    0.531863   \n",
       "source-ec2.amazonaws.com                                 0.000000   \n",
       "\n",
       "                                                    source-Level6  \\\n",
       "source-backup                                            0.000000   \n",
       "source-Level6                                            0.000000   \n",
       "source-arn:aws:sts::811596193553:assumed-role/S...       0.000000   \n",
       "source-arn:aws:iam::811596193553:root                    0.524189   \n",
       "source-ec2.amazonaws.com                                 0.000000   \n",
       "\n",
       "                                                    source-arn:aws:sts::811596193553:assumed-role/SecurityMonkey/secmonkey  \\\n",
       "source-backup                                                                                       0                        \n",
       "source-Level6                                                                                       0                        \n",
       "source-arn:aws:sts::811596193553:assumed-role/S...                                                  0                        \n",
       "source-arn:aws:iam::811596193553:root                                                               0                        \n",
       "source-ec2.amazonaws.com                                                                            0                        \n",
       "\n",
       "                                                    source-arn:aws:iam::811596193553:root  \\\n",
       "source-backup                                                                    0.531863   \n",
       "source-Level6                                                                    0.524189   \n",
       "source-arn:aws:sts::811596193553:assumed-role/S...                               0.285693   \n",
       "source-arn:aws:iam::811596193553:root                                            0.000000   \n",
       "source-ec2.amazonaws.com                                                         0.000000   \n",
       "\n",
       "                                                    source-ec2.amazonaws.com  \\\n",
       "source-backup                                                            0.0   \n",
       "source-Level6                                                            0.0   \n",
       "source-arn:aws:sts::811596193553:assumed-role/S...                       0.0   \n",
       "source-arn:aws:iam::811596193553:root                                    0.0   \n",
       "source-ec2.amazonaws.com                                                 0.0   \n",
       "\n",
       "                                                    source-arn:aws:sts::811596193553:assumed-role/SecurityMonkey/cloudaux  \\\n",
       "source-backup                                                                                0.341162                       \n",
       "source-Level6                                                                                0.000000                       \n",
       "source-arn:aws:sts::811596193553:assumed-role/S...                                           0.000000                       \n",
       "source-arn:aws:iam::811596193553:root                                                        0.000000                       \n",
       "source-ec2.amazonaws.com                                                                     0.000000                       \n",
       "\n",
       "                                                    source-cloud_user  \\\n",
       "source-backup                                                0.000000   \n",
       "source-Level6                                                0.000000   \n",
       "source-arn:aws:sts::811596193553:assumed-role/S...           0.000000   \n",
       "source-arn:aws:iam::811596193553:root                        2.115817   \n",
       "source-ec2.amazonaws.com                                     0.000000   \n",
       "\n",
       "                                                    source-SecurityMokey  \\\n",
       "source-backup                                                   0.000000   \n",
       "source-Level6                                                   0.000000   \n",
       "source-arn:aws:sts::811596193553:assumed-role/S...              0.000000   \n",
       "source-arn:aws:iam::811596193553:root                           0.000000   \n",
       "source-ec2.amazonaws.com                                        0.548697   \n",
       "\n",
       "                                                    source-config.amazonaws.com  \\\n",
       "source-backup                                                               0.0   \n",
       "source-Level6                                                               0.0   \n",
       "source-arn:aws:sts::811596193553:assumed-role/S...                          0.0   \n",
       "source-arn:aws:iam::811596193553:root                                       0.0   \n",
       "source-ec2.amazonaws.com                                                    0.0   \n",
       "\n",
       "                                                    source-arn:aws:sts::811596193553:assumed-role/Level6/Level6  \\\n",
       "source-backup                                                                                       0             \n",
       "source-Level6                                                                                       0             \n",
       "source-arn:aws:sts::811596193553:assumed-role/S...                                                  0             \n",
       "source-arn:aws:iam::811596193553:root                                                               0             \n",
       "source-ec2.amazonaws.com                                                                            0             \n",
       "\n",
       "                                                    ...  \\\n",
       "source-backup                                       ...   \n",
       "source-Level6                                       ...   \n",
       "source-arn:aws:sts::811596193553:assumed-role/S...  ...   \n",
       "source-arn:aws:iam::811596193553:root               ...   \n",
       "source-ec2.amazonaws.com                            ...   \n",
       "\n",
       "                                                    source-arn:aws:sts::811596193553:assumed-role/backend_server/i-0e113c6c02d37490f  \\\n",
       "source-backup                                                                                     0.0                                  \n",
       "source-Level6                                                                                     0.0                                  \n",
       "source-arn:aws:sts::811596193553:assumed-role/S...                                                0.0                                  \n",
       "source-arn:aws:iam::811596193553:root                                                             0.0                                  \n",
       "source-ec2.amazonaws.com                                                                          0.0                                  \n",
       "\n",
       "                                                    source-arn:aws:sts::811596193553:assumed-role/final_instance/i-0a427bfae3dae42ae   \\\n",
       "source-backup                                                                                     0.0                                   \n",
       "source-Level6                                                                                     0.0                                   \n",
       "source-arn:aws:sts::811596193553:assumed-role/S...                                                0.0                                   \n",
       "source-arn:aws:iam::811596193553:root                                                             0.0                                   \n",
       "source-ec2.amazonaws.com                                                                          0.0                                   \n",
       "\n",
       "                                                    source-arn:aws:sts::811596193553:assumed-role/SummitRouteAudit/audit  \\\n",
       "source-backup                                                                                     0.0                      \n",
       "source-Level6                                                                                     0.0                      \n",
       "source-arn:aws:sts::811596193553:assumed-role/S...                                                0.0                      \n",
       "source-arn:aws:iam::811596193553:root                                                             0.0                      \n",
       "source-ec2.amazonaws.com                                                                          0.0                      \n",
       "\n",
       "                                                    source-AIDA8M82W7I80M2DIZCF5  \\\n",
       "source-backup                                                                0.0   \n",
       "source-Level6                                                                0.0   \n",
       "source-arn:aws:sts::811596193553:assumed-role/S...                           0.0   \n",
       "source-arn:aws:iam::811596193553:root                                        0.0   \n",
       "source-ec2.amazonaws.com                                                     0.0   \n",
       "\n",
       "                                                    source-arn:aws:sts::811596193553:assumed-role/config-role-us-west-2/AWSConfig-BucketConfigCheck  \\\n",
       "source-backup                                                                                       0                                                 \n",
       "source-Level6                                                                                       0                                                 \n",
       "source-arn:aws:sts::811596193553:assumed-role/S...                                                  0                                                 \n",
       "source-arn:aws:iam::811596193553:root                                                               0                                                 \n",
       "source-ec2.amazonaws.com                                                                            0                                                 \n",
       "\n",
       "                                                    source-cloudsploit-api  \\\n",
       "source-backup                                                          0.0   \n",
       "source-Level6                                                          0.0   \n",
       "source-arn:aws:sts::811596193553:assumed-role/S...                     0.0   \n",
       "source-arn:aws:iam::811596193553:root                                  0.0   \n",
       "source-ec2.amazonaws.com                                               0.0   \n",
       "\n",
       "                                                    source-HIDDEN_DUE_TO_SECURITY_REASONS  \\\n",
       "source-backup                                                                         0.0   \n",
       "source-Level6                                                                         0.0   \n",
       "source-arn:aws:sts::811596193553:assumed-role/S...                                    0.0   \n",
       "source-arn:aws:iam::811596193553:root                                                 0.0   \n",
       "source-ec2.amazonaws.com                                                              0.0   \n",
       "\n",
       "                                                    source-arn:aws:sts::811596193553:assumed-role/lambda_basic_execution/Level6  \\\n",
       "source-backup                                                                                     0.0                             \n",
       "source-Level6                                                                                     0.0                             \n",
       "source-arn:aws:sts::811596193553:assumed-role/S...                                                0.0                             \n",
       "source-arn:aws:iam::811596193553:root                                                             0.0                             \n",
       "source-ec2.amazonaws.com                                                                          0.0                             \n",
       "\n",
       "                                                    source-arn:aws:sts::811596193553:assumed-role/level5/level5  \\\n",
       "source-backup                                                                                       0             \n",
       "source-Level6                                                                                       0             \n",
       "source-arn:aws:sts::811596193553:assumed-role/S...                                                  0             \n",
       "source-arn:aws:iam::811596193553:root                                                               0             \n",
       "source-ec2.amazonaws.com                                                                            0             \n",
       "\n",
       "                                                    source-arn:aws:sts::811596193553:assumed-role/level6/level6-ec1335a148b902503664e2d162fcdaa98c224ea5  \n",
       "source-backup                                                                                       0                                                     \n",
       "source-Level6                                                                                       0                                                     \n",
       "source-arn:aws:sts::811596193553:assumed-role/S...                                                  0                                                     \n",
       "source-arn:aws:iam::811596193553:root                                                               0                                                     \n",
       "source-ec2.amazonaws.com                                                                            0                                                     \n",
       "\n",
       "[5 rows x 32 columns]"
      ]
     },
     "execution_count": 49,
     "metadata": {},
     "output_type": "execute_result"
    }
   ],
   "source": [
    "distance_df.head()"
   ]
  },
  {
   "cell_type": "code",
   "execution_count": 50,
   "id": "1c9bf731",
   "metadata": {},
   "outputs": [],
   "source": [
    "ans = distance_df.T.max().reset_index().rename(columns={0:'Anomaly Score'})"
   ]
  },
  {
   "cell_type": "code",
   "execution_count": 51,
   "id": "a1bfca28",
   "metadata": {},
   "outputs": [],
   "source": [
    "ans['Node'] = ans.index"
   ]
  },
  {
   "cell_type": "code",
   "execution_count": 52,
   "id": "e1fdb134",
   "metadata": {},
   "outputs": [
    {
     "data": {
      "image/png": "[encoded data removed]",
      "text/plain": [
       "<Figure size 640x480 with 1 Axes>"
      ]
     },
     "metadata": {},
     "output_type": "display_data"
    }
   ],
   "source": [
    "ax = ans.plot.bar(x='Node',\n",
    "                      y='Anomaly Score')"
   ]
  },
  {
   "cell_type": "code",
   "execution_count": 53,
   "id": "8a0ee54d",
   "metadata": {},
   "outputs": [
    {
     "name": "stdout",
     "output_type": "stream",
     "text": [
      "source-backup\n",
      "source-Level6\n",
      "source-arn:aws:sts::811596193553:assumed-role/SecurityMonkey/secmonkey\n",
      "source-arn:aws:iam::811596193553:root\n",
      "source-ec2.amazonaws.com\n",
      "source-arn:aws:sts::811596193553:assumed-role/SecurityMonkey/cloudaux\n",
      "source-cloud_user\n",
      "source-SecurityMokey\n",
      "source-config.amazonaws.com\n",
      "source-arn:aws:sts::811596193553:assumed-role/Level6/Level6\n",
      "source-arn:aws:sts::811596193553:assumed-role/Cloudsploit/cloudsploit_scan\n",
      "source-arn:aws:sts::811596193553:assumed-role/flaws/i-aa2d3b42e5c6e801a\n",
      "source-arn:aws:sts::811596193553:assumed-role/final_instance/i-0a427bfae3dae42ae\n",
      "source-lambda.amazonaws.com\n",
      "source-arn:aws:sts::811596193553:assumed-role/config-role-us-west-2/AWSConfig-Describe\n",
      "source-piper\n",
      "source-AIDAS6VXHZ3PBMIBVP1P2\n",
      "source-Level5\n",
      "source-arn:aws:sts::811596193553:assumed-role/flask-server/i-0d6d1080e1184b9b4\n",
      "source-flaws\n",
      "source-arn:aws:sts::811596193553:assumed-role/level6/level6\n",
      "source-vpc_peering\n",
      "source-arn:aws:sts::811596193553:assumed-role/backend_server/i-0e113c6c02d37490f\n",
      "source-arn:aws:sts::811596193553:assumed-role/final_instance/i-0a427bfae3dae42ae \n",
      "source-arn:aws:sts::811596193553:assumed-role/SummitRouteAudit/audit\n",
      "source-AIDA8M82W7I80M2DIZCF5\n",
      "source-arn:aws:sts::811596193553:assumed-role/config-role-us-west-2/AWSConfig-BucketConfigCheck\n",
      "source-cloudsploit-api\n",
      "source-HIDDEN_DUE_TO_SECURITY_REASONS\n",
      "source-arn:aws:sts::811596193553:assumed-role/lambda_basic_execution/Level6\n",
      "source-arn:aws:sts::811596193553:assumed-role/level5/level5\n",
      "source-arn:aws:sts::811596193553:assumed-role/level6/level6-ec1335a148b902503664e2d162fcdaa98c224ea5\n"
     ]
    }
   ],
   "source": [
    "for i in ans['index']:\n",
    "    print(i)"
   ]
  },
  {
   "cell_type": "code",
   "execution_count": null,
   "id": "33b44cf6",
   "metadata": {},
   "outputs": [],
   "source": []
  }
 ],
 "metadata": {
  "kernelspec": {
   "display_name": "Python 3 (ipykernel)",
   "language": "python",
   "name": "python3"
  },
  "language_info": {
   "codemirror_mode": {
    "name": "ipython",
    "version": 3
   },
   "file_extension": ".py",
   "mimetype": "text/x-python",
   "name": "python",
   "nbconvert_exporter": "python",
   "pygments_lexer": "ipython3",
   "version": "3.9.6"
  }
 },
 "nbformat": 4,
 "nbformat_minor": 5
}
