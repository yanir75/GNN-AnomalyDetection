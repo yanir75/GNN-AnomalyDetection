{
 "cells": [
  {
   "cell_type": "markdown",
   "id": "a78ccfe9",
   "metadata": {},
   "source": [
    "# Extract features from the dataset"
   ]
  },
  {
   "cell_type": "code",
   "execution_count": 1,
   "id": "534c6175",
   "metadata": {},
   "outputs": [
    {
     "name": "stdout",
     "output_type": "stream",
     "text": [
      "Requirement already satisfied: pandas==1.3.5 in /opt/homebrew/lib/python3.10/site-packages (1.3.5)\n",
      "Requirement already satisfied: pytz>=2017.3 in /opt/homebrew/lib/python3.10/site-packages (from pandas==1.3.5) (2022.1)\n",
      "Requirement already satisfied: numpy>=1.21.0 in /opt/homebrew/lib/python3.10/site-packages (from pandas==1.3.5) (1.23.1)\n",
      "Requirement already satisfied: python-dateutil>=2.7.3 in /opt/homebrew/lib/python3.10/site-packages (from pandas==1.3.5) (2.8.2)\n",
      "Requirement already satisfied: six>=1.5 in /opt/homebrew/lib/python3.10/site-packages (from python-dateutil>=2.7.3->pandas==1.3.5) (1.16.0)\n"
     ]
    }
   ],
   "source": [
    "!pip3 install pandas==1.3.5"
   ]
  },
  {
   "cell_type": "code",
   "execution_count": 2,
   "id": "8493dc8c",
   "metadata": {},
   "outputs": [],
   "source": [
    "import json\n",
    "import pandas as pd"
   ]
  },
  {
   "cell_type": "code",
   "execution_count": 3,
   "id": "fa4fafa4",
   "metadata": {},
   "outputs": [],
   "source": [
    "\n",
    "# crate a list to add dataframes to\n",
    "awsc_list = list()\n",
    "\n",
    "# list of files\n",
    "files_list = ['../Datasets/event_history.json']\n",
    "    \n",
    "    "
   ]
  },
  {
   "cell_type": "code",
   "execution_count": 4,
   "id": "e4acd62d",
   "metadata": {
    "scrolled": false
   },
   "outputs": [],
   "source": [
    "for file in files_list:\n",
    "    with open(file, 'r', encoding='utf-8') as f:\n",
    "        data = json.loads(f.read())\n",
    "        \n",
    "        # Append the dataframes\n",
    "        awsc_list.append(pd.DataFrame.from_records(data['Records']))"
   ]
  },
  {
   "cell_type": "code",
   "execution_count": 5,
   "id": "6c4c5320",
   "metadata": {},
   "outputs": [],
   "source": [
    "# Merge data frames into one \n",
    "awsc = pd.concat(awsc_list).reset_index(drop=True)\n"
   ]
  },
  {
   "cell_type": "code",
   "execution_count": 6,
   "id": "ab7a29f7",
   "metadata": {},
   "outputs": [],
   "source": [
    "users = pd.json_normalize(awsc['userIdentity']).merge(awsc[['eventName','eventSource','awsRegion']], left_index=True,right_index=True)"
   ]
  },
  {
   "cell_type": "code",
   "execution_count": 7,
   "id": "470f49dc",
   "metadata": {},
   "outputs": [],
   "source": [
    "users['userName'] = users['userName'].fillna(users['arn']).fillna(users['invokedBy']) \\\n",
    ".fillna(users['invokedBy']).fillna(users['principalId'])"
   ]
  },
  {
   "cell_type": "code",
   "execution_count": 8,
   "id": "517b0cd7",
   "metadata": {},
   "outputs": [
    {
     "data": {
      "text/html": [
       "<div>\n",
       "<style scoped>\n",
       "    .dataframe tbody tr th:only-of-type {\n",
       "        vertical-align: middle;\n",
       "    }\n",
       "\n",
       "    .dataframe tbody tr th {\n",
       "        vertical-align: top;\n",
       "    }\n",
       "\n",
       "    .dataframe thead th {\n",
       "        text-align: right;\n",
       "    }\n",
       "</style>\n",
       "<table border=\"1\" class=\"dataframe\">\n",
       "  <thead>\n",
       "    <tr style=\"text-align: right;\">\n",
       "      <th></th>\n",
       "      <th>type</th>\n",
       "      <th>Identifier</th>\n",
       "      <th>eventName</th>\n",
       "      <th>TargetService</th>\n",
       "      <th>awsRegion</th>\n",
       "    </tr>\n",
       "  </thead>\n",
       "  <tbody>\n",
       "    <tr>\n",
       "      <th>0</th>\n",
       "      <td>IAMUser</td>\n",
       "      <td>cloud_user</td>\n",
       "      <td>ConsoleLogin</td>\n",
       "      <td>signin.amazonaws.com</td>\n",
       "      <td>us-east-1</td>\n",
       "    </tr>\n",
       "    <tr>\n",
       "      <th>1</th>\n",
       "      <td>AssumedRole</td>\n",
       "      <td>arn:aws:sts::322270801872:assumed-role/admin/a...</td>\n",
       "      <td>CreateAccessKey</td>\n",
       "      <td>iam.amazonaws.com</td>\n",
       "      <td>us-east-1</td>\n",
       "    </tr>\n",
       "    <tr>\n",
       "      <th>2</th>\n",
       "      <td>AssumedRole</td>\n",
       "      <td>arn:aws:sts::322270801872:assumed-role/cfst-14...</td>\n",
       "      <td>CreateDefaultVpc</td>\n",
       "      <td>ec2.amazonaws.com</td>\n",
       "      <td>us-east-1</td>\n",
       "    </tr>\n",
       "    <tr>\n",
       "      <th>3</th>\n",
       "      <td>AssumedRole</td>\n",
       "      <td>arn:aws:sts::322270801872:assumed-role/cfst-14...</td>\n",
       "      <td>CreateLogGroup</td>\n",
       "      <td>logs.amazonaws.com</td>\n",
       "      <td>us-east-1</td>\n",
       "    </tr>\n",
       "    <tr>\n",
       "      <th>4</th>\n",
       "      <td>AssumedRole</td>\n",
       "      <td>arn:aws:sts::322270801872:assumed-role/cfst-14...</td>\n",
       "      <td>CreateLogStream</td>\n",
       "      <td>logs.amazonaws.com</td>\n",
       "      <td>us-east-1</td>\n",
       "    </tr>\n",
       "    <tr>\n",
       "      <th>...</th>\n",
       "      <td>...</td>\n",
       "      <td>...</td>\n",
       "      <td>...</td>\n",
       "      <td>...</td>\n",
       "      <td>...</td>\n",
       "    </tr>\n",
       "    <tr>\n",
       "      <th>99735</th>\n",
       "      <td>AWSService</td>\n",
       "      <td>ssm.amazonaws.com</td>\n",
       "      <td>AssumeRole</td>\n",
       "      <td>sts.amazonaws.com</td>\n",
       "      <td>us-east-1</td>\n",
       "    </tr>\n",
       "    <tr>\n",
       "      <th>99736</th>\n",
       "      <td>AWSService</td>\n",
       "      <td>ssm.amazonaws.com</td>\n",
       "      <td>AssumeRole</td>\n",
       "      <td>sts.amazonaws.com</td>\n",
       "      <td>us-east-1</td>\n",
       "    </tr>\n",
       "    <tr>\n",
       "      <th>99737</th>\n",
       "      <td>AWSService</td>\n",
       "      <td>ssm.amazonaws.com</td>\n",
       "      <td>AssumeRole</td>\n",
       "      <td>sts.amazonaws.com</td>\n",
       "      <td>us-east-1</td>\n",
       "    </tr>\n",
       "    <tr>\n",
       "      <th>99738</th>\n",
       "      <td>AWSService</td>\n",
       "      <td>ssm.amazonaws.com</td>\n",
       "      <td>AssumeRole</td>\n",
       "      <td>sts.amazonaws.com</td>\n",
       "      <td>us-east-1</td>\n",
       "    </tr>\n",
       "    <tr>\n",
       "      <th>99739</th>\n",
       "      <td>AWSService</td>\n",
       "      <td>trustedadvisor.amazonaws.com</td>\n",
       "      <td>AssumeRole</td>\n",
       "      <td>sts.amazonaws.com</td>\n",
       "      <td>us-east-1</td>\n",
       "    </tr>\n",
       "  </tbody>\n",
       "</table>\n",
       "<p>99740 rows × 5 columns</p>\n",
       "</div>"
      ],
      "text/plain": [
       "              type                                         Identifier  \\\n",
       "0          IAMUser                                         cloud_user   \n",
       "1      AssumedRole  arn:aws:sts::322270801872:assumed-role/admin/a...   \n",
       "2      AssumedRole  arn:aws:sts::322270801872:assumed-role/cfst-14...   \n",
       "3      AssumedRole  arn:aws:sts::322270801872:assumed-role/cfst-14...   \n",
       "4      AssumedRole  arn:aws:sts::322270801872:assumed-role/cfst-14...   \n",
       "...            ...                                                ...   \n",
       "99735   AWSService                                  ssm.amazonaws.com   \n",
       "99736   AWSService                                  ssm.amazonaws.com   \n",
       "99737   AWSService                                  ssm.amazonaws.com   \n",
       "99738   AWSService                                  ssm.amazonaws.com   \n",
       "99739   AWSService                       trustedadvisor.amazonaws.com   \n",
       "\n",
       "              eventName         TargetService  awsRegion  \n",
       "0          ConsoleLogin  signin.amazonaws.com  us-east-1  \n",
       "1       CreateAccessKey     iam.amazonaws.com  us-east-1  \n",
       "2      CreateDefaultVpc     ec2.amazonaws.com  us-east-1  \n",
       "3        CreateLogGroup    logs.amazonaws.com  us-east-1  \n",
       "4       CreateLogStream    logs.amazonaws.com  us-east-1  \n",
       "...                 ...                   ...        ...  \n",
       "99735        AssumeRole     sts.amazonaws.com  us-east-1  \n",
       "99736        AssumeRole     sts.amazonaws.com  us-east-1  \n",
       "99737        AssumeRole     sts.amazonaws.com  us-east-1  \n",
       "99738        AssumeRole     sts.amazonaws.com  us-east-1  \n",
       "99739        AssumeRole     sts.amazonaws.com  us-east-1  \n",
       "\n",
       "[99740 rows x 5 columns]"
      ]
     },
     "execution_count": 8,
     "metadata": {},
     "output_type": "execute_result"
    }
   ],
   "source": [
    "users = users[['type','userName','eventName','eventSource','awsRegion']]\n",
    "users.rename(columns = {'userName':'Identifier','eventSource':'TargetService'})\n"
   ]
  },
  {
   "cell_type": "code",
   "execution_count": 9,
   "id": "d35f074d",
   "metadata": {},
   "outputs": [
    {
     "data": {
      "text/html": [
       "<div>\n",
       "<style scoped>\n",
       "    .dataframe tbody tr th:only-of-type {\n",
       "        vertical-align: middle;\n",
       "    }\n",
       "\n",
       "    .dataframe tbody tr th {\n",
       "        vertical-align: top;\n",
       "    }\n",
       "\n",
       "    .dataframe thead th {\n",
       "        text-align: right;\n",
       "    }\n",
       "</style>\n",
       "<table border=\"1\" class=\"dataframe\">\n",
       "  <thead>\n",
       "    <tr style=\"text-align: right;\">\n",
       "      <th></th>\n",
       "      <th>type</th>\n",
       "      <th>userName</th>\n",
       "      <th>eventName</th>\n",
       "      <th>eventSource</th>\n",
       "      <th>awsRegion</th>\n",
       "    </tr>\n",
       "  </thead>\n",
       "  <tbody>\n",
       "    <tr>\n",
       "      <th>0</th>\n",
       "      <td>IAMUser</td>\n",
       "      <td>cloud_user</td>\n",
       "      <td>ConsoleLogin</td>\n",
       "      <td>signin.amazonaws.com</td>\n",
       "      <td>us-east-1</td>\n",
       "    </tr>\n",
       "    <tr>\n",
       "      <th>1</th>\n",
       "      <td>AssumedRole</td>\n",
       "      <td>arn:aws:sts::322270801872:assumed-role/admin/a...</td>\n",
       "      <td>CreateAccessKey</td>\n",
       "      <td>iam.amazonaws.com</td>\n",
       "      <td>us-east-1</td>\n",
       "    </tr>\n",
       "    <tr>\n",
       "      <th>2</th>\n",
       "      <td>AssumedRole</td>\n",
       "      <td>arn:aws:sts::322270801872:assumed-role/cfst-14...</td>\n",
       "      <td>CreateDefaultVpc</td>\n",
       "      <td>ec2.amazonaws.com</td>\n",
       "      <td>us-east-1</td>\n",
       "    </tr>\n",
       "    <tr>\n",
       "      <th>3</th>\n",
       "      <td>AssumedRole</td>\n",
       "      <td>arn:aws:sts::322270801872:assumed-role/cfst-14...</td>\n",
       "      <td>CreateLogGroup</td>\n",
       "      <td>logs.amazonaws.com</td>\n",
       "      <td>us-east-1</td>\n",
       "    </tr>\n",
       "    <tr>\n",
       "      <th>4</th>\n",
       "      <td>AssumedRole</td>\n",
       "      <td>arn:aws:sts::322270801872:assumed-role/cfst-14...</td>\n",
       "      <td>CreateLogStream</td>\n",
       "      <td>logs.amazonaws.com</td>\n",
       "      <td>us-east-1</td>\n",
       "    </tr>\n",
       "  </tbody>\n",
       "</table>\n",
       "</div>"
      ],
      "text/plain": [
       "          type                                           userName  \\\n",
       "0      IAMUser                                         cloud_user   \n",
       "1  AssumedRole  arn:aws:sts::322270801872:assumed-role/admin/a...   \n",
       "2  AssumedRole  arn:aws:sts::322270801872:assumed-role/cfst-14...   \n",
       "3  AssumedRole  arn:aws:sts::322270801872:assumed-role/cfst-14...   \n",
       "4  AssumedRole  arn:aws:sts::322270801872:assumed-role/cfst-14...   \n",
       "\n",
       "          eventName           eventSource  awsRegion  \n",
       "0      ConsoleLogin  signin.amazonaws.com  us-east-1  \n",
       "1   CreateAccessKey     iam.amazonaws.com  us-east-1  \n",
       "2  CreateDefaultVpc     ec2.amazonaws.com  us-east-1  \n",
       "3    CreateLogGroup    logs.amazonaws.com  us-east-1  \n",
       "4   CreateLogStream    logs.amazonaws.com  us-east-1  "
      ]
     },
     "execution_count": 9,
     "metadata": {},
     "output_type": "execute_result"
    }
   ],
   "source": [
    "users.head()\n"
   ]
  },
  {
   "cell_type": "code",
   "execution_count": 10,
   "id": "68b1f1c1",
   "metadata": {},
   "outputs": [
    {
     "ename": "KeyError",
     "evalue": "False",
     "output_type": "error",
     "traceback": [
      "\u001b[0;31m---------------------------------------------------------------------------\u001b[0m",
      "\u001b[0;31mKeyError\u001b[0m                                  Traceback (most recent call last)",
      "File \u001b[0;32m/opt/homebrew/lib/python3.10/site-packages/pandas/core/indexes/base.py:3361\u001b[0m, in \u001b[0;36mIndex.get_loc\u001b[0;34m(self, key, method, tolerance)\u001b[0m\n\u001b[1;32m   3360\u001b[0m \u001b[38;5;28;01mtry\u001b[39;00m:\n\u001b[0;32m-> 3361\u001b[0m     \u001b[38;5;28;01mreturn\u001b[39;00m \u001b[38;5;28;43mself\u001b[39;49m\u001b[38;5;241;43m.\u001b[39;49m\u001b[43m_engine\u001b[49m\u001b[38;5;241;43m.\u001b[39;49m\u001b[43mget_loc\u001b[49m\u001b[43m(\u001b[49m\u001b[43mcasted_key\u001b[49m\u001b[43m)\u001b[49m\n\u001b[1;32m   3362\u001b[0m \u001b[38;5;28;01mexcept\u001b[39;00m \u001b[38;5;167;01mKeyError\u001b[39;00m \u001b[38;5;28;01mas\u001b[39;00m err:\n",
      "File \u001b[0;32m/opt/homebrew/lib/python3.10/site-packages/pandas/_libs/index.pyx:76\u001b[0m, in \u001b[0;36mpandas._libs.index.IndexEngine.get_loc\u001b[0;34m()\u001b[0m\n",
      "File \u001b[0;32m/opt/homebrew/lib/python3.10/site-packages/pandas/_libs/index.pyx:108\u001b[0m, in \u001b[0;36mpandas._libs.index.IndexEngine.get_loc\u001b[0;34m()\u001b[0m\n",
      "File \u001b[0;32mpandas/_libs/hashtable_class_helper.pxi:5198\u001b[0m, in \u001b[0;36mpandas._libs.hashtable.PyObjectHashTable.get_item\u001b[0;34m()\u001b[0m\n",
      "File \u001b[0;32mpandas/_libs/hashtable_class_helper.pxi:5206\u001b[0m, in \u001b[0;36mpandas._libs.hashtable.PyObjectHashTable.get_item\u001b[0;34m()\u001b[0m\n",
      "\u001b[0;31mKeyError\u001b[0m: False",
      "\nThe above exception was the direct cause of the following exception:\n",
      "\u001b[0;31mKeyError\u001b[0m                                  Traceback (most recent call last)",
      "Cell \u001b[0;32mIn [10], line 1\u001b[0m\n\u001b[0;32m----> 1\u001b[0m awsc[\u001b[43mawsc\u001b[49m\u001b[43m[\u001b[49m\u001b[38;5;124;43m'\u001b[39;49m\u001b[38;5;124;43meventName\u001b[39;49m\u001b[38;5;124;43m'\u001b[39;49m\u001b[38;5;241;43m==\u001b[39;49m\u001b[38;5;124;43m'\u001b[39;49m\u001b[38;5;124;43mRunInstances\u001b[39;49m\u001b[38;5;124;43m'\u001b[39;49m\u001b[43m]\u001b[49m]\n",
      "File \u001b[0;32m/opt/homebrew/lib/python3.10/site-packages/pandas/core/frame.py:3458\u001b[0m, in \u001b[0;36mDataFrame.__getitem__\u001b[0;34m(self, key)\u001b[0m\n\u001b[1;32m   3456\u001b[0m \u001b[38;5;28;01mif\u001b[39;00m \u001b[38;5;28mself\u001b[39m\u001b[38;5;241m.\u001b[39mcolumns\u001b[38;5;241m.\u001b[39mnlevels \u001b[38;5;241m>\u001b[39m \u001b[38;5;241m1\u001b[39m:\n\u001b[1;32m   3457\u001b[0m     \u001b[38;5;28;01mreturn\u001b[39;00m \u001b[38;5;28mself\u001b[39m\u001b[38;5;241m.\u001b[39m_getitem_multilevel(key)\n\u001b[0;32m-> 3458\u001b[0m indexer \u001b[38;5;241m=\u001b[39m \u001b[38;5;28;43mself\u001b[39;49m\u001b[38;5;241;43m.\u001b[39;49m\u001b[43mcolumns\u001b[49m\u001b[38;5;241;43m.\u001b[39;49m\u001b[43mget_loc\u001b[49m\u001b[43m(\u001b[49m\u001b[43mkey\u001b[49m\u001b[43m)\u001b[49m\n\u001b[1;32m   3459\u001b[0m \u001b[38;5;28;01mif\u001b[39;00m is_integer(indexer):\n\u001b[1;32m   3460\u001b[0m     indexer \u001b[38;5;241m=\u001b[39m [indexer]\n",
      "File \u001b[0;32m/opt/homebrew/lib/python3.10/site-packages/pandas/core/indexes/base.py:3363\u001b[0m, in \u001b[0;36mIndex.get_loc\u001b[0;34m(self, key, method, tolerance)\u001b[0m\n\u001b[1;32m   3361\u001b[0m         \u001b[38;5;28;01mreturn\u001b[39;00m \u001b[38;5;28mself\u001b[39m\u001b[38;5;241m.\u001b[39m_engine\u001b[38;5;241m.\u001b[39mget_loc(casted_key)\n\u001b[1;32m   3362\u001b[0m     \u001b[38;5;28;01mexcept\u001b[39;00m \u001b[38;5;167;01mKeyError\u001b[39;00m \u001b[38;5;28;01mas\u001b[39;00m err:\n\u001b[0;32m-> 3363\u001b[0m         \u001b[38;5;28;01mraise\u001b[39;00m \u001b[38;5;167;01mKeyError\u001b[39;00m(key) \u001b[38;5;28;01mfrom\u001b[39;00m \u001b[38;5;21;01merr\u001b[39;00m\n\u001b[1;32m   3365\u001b[0m \u001b[38;5;28;01mif\u001b[39;00m is_scalar(key) \u001b[38;5;129;01mand\u001b[39;00m isna(key) \u001b[38;5;129;01mand\u001b[39;00m \u001b[38;5;129;01mnot\u001b[39;00m \u001b[38;5;28mself\u001b[39m\u001b[38;5;241m.\u001b[39mhasnans:\n\u001b[1;32m   3366\u001b[0m     \u001b[38;5;28;01mraise\u001b[39;00m \u001b[38;5;167;01mKeyError\u001b[39;00m(key)\n",
      "\u001b[0;31mKeyError\u001b[0m: False"
     ]
    }
   ],
   "source": []
  },
  {
   "cell_type": "code",
   "execution_count": null,
   "id": "fd07685f",
   "metadata": {},
   "outputs": [],
   "source": [
    "awsc.head()\n"
   ]
  }
 ],
 "metadata": {
  "kernelspec": {
   "display_name": "Python 3 (ipykernel)",
   "language": "python",
   "name": "python3"
  },
  "language_info": {
   "codemirror_mode": {
    "name": "ipython",
    "version": 3
   },
   "file_extension": ".py",
   "mimetype": "text/x-python",
   "name": "python",
   "nbconvert_exporter": "python",
   "pygments_lexer": "ipython3",
   "version": "3.10.9"
  },
  "vscode": {
   "interpreter": {
    "hash": "5c7b89af1651d0b8571dde13640ecdccf7d5a6204171d6ab33e7c296e100e08a"
   }
  }
 },
 "nbformat": 4,
 "nbformat_minor": 5
}
