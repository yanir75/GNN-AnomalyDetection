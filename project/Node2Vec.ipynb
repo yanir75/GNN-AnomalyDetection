{
 "cells": [
  {
   "cell_type": "code",
   "execution_count": null,
   "id": "e3648f13",
   "metadata": {},
   "outputs": [],
   "source": [
    "import json\n",
    "import pandas as pd\n",
    "import networkx as nx\n",
    "import numpy as np\n",
    "from math import dist\n",
    "import copy\n",
    "import matplotlib.pyplot as plt\n",
    "##### model\n",
    "from sklearn.manifold import TSNE\n",
    "from sklearn.model_selection import train_test_split\n",
    "from sklearn.metrics import accuracy_score\n",
    "from sklearn.metrics.pairwise import pairwise_distances\n",
    "from stellargraph.data import BiasedRandomWalk\n",
    "from stellargraph import StellarGraph\n",
    "from gensim.models import Word2Vec\n",
    "from sklearn.cluster import DBSCAN\n",
    "\n",
    "\n",
    "import warnings\n",
    "import collections\n",
    "from stellargraph import datasets\n",
    "from IPython.display import display, HTML\n",
    "import matplotlib.pyplot as plt\n",
    "import torch\n",
    "from torch_geometric.utils.convert import from_networkx\n",
    "from itables import init_notebook_mode,show\n",
    "# init_notebook_mode(all_interactive=True)\n",
    "\n",
    "%matplotlib inline\n",
    "\n"
   ]
  },
  {
   "cell_type": "code",
   "execution_count": null,
   "id": "ca514379",
   "metadata": {},
   "outputs": [],
   "source": [
    "starts_with_di = {\n",
    "    'CreateObject': ['accept','request','create','copy','run','purchase','allocate','import','startinstances'],\n",
    "    'ModifyExistingResource': ['modify','update','set','tag','deregister','deprecate','un','reject','register'],\n",
    "    'ListResources' : ['list'],\n",
    "    'Download/UploadObjects': ['enc','getobjects','upload'],\n",
    "    'GetInfo': ['describe','get','search'],\n",
    "    'AssociateResources' : ['associate','put'],\n",
    "    'Login' : ['assume','login','switch','renewrole','renewdelegate','checkmfa'],\n",
    "    'RemovePermissions': ['remove'],\n",
    "    'GrantPermissions': ['add','authorize']\n",
    "\n",
    "}\n",
    "\n",
    "contains_di = {\n",
    "    'Delete': ['delet','terminate','revoke','drop','releaseaddress'] ,\n",
    "    'DisableObjects': ['disabl','stop','cancel','unlink','suspend'],\n",
    "    'EnableObjects': ['enabl','start','invoke','subscribe','test','complete'],\n",
    "    'SensitiveInfo': ['send','accesskey','secretkey','token','invite','exportapi','decode'],\n",
    "    'Logout': ['exit'],\n",
    "    'CreateObject': ['create','copy'],\n",
    "    'ModifyExistingResource': ['failover','change','confirm','promote','reboot','rotate','replace','retire','detach','modify','update','set','tag','deregister','Deprecate','attach','upgrade','wipe','transfer','validate','publish'],\n",
    "    'ListResources' : ['list'],\n",
    "    'Download/UploadObjects': ['getobjects','upload'],\n",
    "    'GetInfo': ['describe','get','view','decrypt','generate','lookup','scan','simulate'],\n",
    "    'AssociateResources' : ['associate','put'],\n",
    "    'Login' : ['assume','login','renewrole','sign','forgot'],\n",
    "    'Logout' : ['logout']\n",
    "\n",
    "}"
   ]
  },
  {
   "cell_type": "code",
   "execution_count": null,
   "id": "45f409e1",
   "metadata": {},
   "outputs": [],
   "source": [
    "\n",
    "# crate a list to add dataframes to\n",
    "awsc_list = list()\n",
    "\n",
    "# list of files\n",
    "files_list = ['../Datasets/attack3.json']\n",
    "\n",
    "# Load event names\n",
    "category_file = open(\"../Utils/event_category.json\")\n",
    "event_categories = json.load(category_file)\n",
    "category_file.close()\n"
   ]
  },
  {
   "cell_type": "code",
   "execution_count": null,
   "id": "f9a30172",
   "metadata": {},
   "outputs": [],
   "source": [
    "for file in files_list:\n",
    "    with open(file, 'r', encoding='utf-8') as f:\n",
    "        data = json.loads(f.read())\n",
    "        \n",
    "        # Append the dataframes\n",
    "        awsc_list.append(pd.DataFrame.from_records(data['Records']))"
   ]
  },
  {
   "cell_type": "code",
   "execution_count": null,
   "id": "cd10043a",
   "metadata": {},
   "outputs": [],
   "source": [
    "awsc = pd.concat(awsc_list).reset_index(drop=True)"
   ]
  },
  {
   "cell_type": "code",
   "execution_count": null,
   "id": "fc721c5e",
   "metadata": {},
   "outputs": [],
   "source": [
    "len(awsc)"
   ]
  },
  {
   "cell_type": "code",
   "execution_count": null,
   "id": "8cee25cb",
   "metadata": {},
   "outputs": [],
   "source": [
    "awsc[(awsc['eventSource']=='cognito-idp.amazonaws.com')]"
   ]
  },
  {
   "cell_type": "code",
   "execution_count": null,
   "id": "bb27bdf0",
   "metadata": {},
   "outputs": [],
   "source": [
    "users = pd.json_normalize(awsc['userIdentity']).merge(awsc[['eventTime','eventName','eventSource','awsRegion','errorCode']], left_index=True,right_index=True)"
   ]
  },
  {
   "cell_type": "code",
   "execution_count": null,
   "id": "f98f7fd9",
   "metadata": {},
   "outputs": [],
   "source": [
    "users['userName'] = users['userName'].fillna(users['arn']).fillna(users['invokedBy']) \\\n",
    ".fillna(users['invokedBy']).fillna(users['principalId']).fillna('accountId')"
   ]
  },
  {
   "cell_type": "code",
   "execution_count": null,
   "id": "2b13d481",
   "metadata": {},
   "outputs": [],
   "source": [
    "users = users[['eventTime','type','userName','eventName','eventSource','awsRegion','errorCode']]\n",
    "users = users.rename(columns = {'eventTime':'timestamp','userName':'Identifier','eventSource':'TargetService','errorCode':'Error'})\n"
   ]
  },
  {
   "cell_type": "code",
   "execution_count": null,
   "id": "4b4895e9",
   "metadata": {},
   "outputs": [],
   "source": [
    "users[users['Identifier']=='cloud_user']\n"
   ]
  },
  {
   "cell_type": "code",
   "execution_count": null,
   "id": "23e17beb",
   "metadata": {},
   "outputs": [],
   "source": [
    "li = []\n",
    "def change_name(name):\n",
    "    if name in event_categories:\n",
    "        return event_categories[name]\n",
    "    for key,value in starts_with_di.items():\n",
    "        for event_name in value:\n",
    "            if name.lower().startswith(event_name):\n",
    "                return key\n",
    "    for key,value in contains_di.items():\n",
    "        for event_name in value:\n",
    "            if event_name in name.lower():\n",
    "                return key\n",
    "    li.append(name)\n",
    "\n",
    "users['eventName'] = users['eventName'].apply(lambda name: change_name(name))"
   ]
  },
  {
   "cell_type": "code",
   "execution_count": null,
   "id": "195c45e5",
   "metadata": {},
   "outputs": [],
   "source": [
    "set(li)"
   ]
  },
  {
   "cell_type": "code",
   "execution_count": null,
   "id": "b5000f46",
   "metadata": {},
   "outputs": [],
   "source": [
    "users['timestamp'] = pd.to_datetime(users['timestamp']).map(pd.Timestamp.timestamp).map(int)\n",
    "users = users.sort_values('timestamp',ascending=True,ignore_index=True)"
   ]
  },
  {
   "cell_type": "code",
   "execution_count": null,
   "id": "a07a3628",
   "metadata": {},
   "outputs": [],
   "source": [
    "users['Identifier'] = users['Identifier'].apply(lambda x : x if (len(x.split(\":\"))!=2) else x.split(\":\")[1])\n",
    "users.nunique()"
   ]
  },
  {
   "cell_type": "code",
   "execution_count": null,
   "id": "3e3b8b38",
   "metadata": {},
   "outputs": [],
   "source": [
    "# users['identity-target'] = \"source-\"+users['Identifier'] + \"|\" + \"target-\"+ users['TargetService']\n",
    "users['identity-event'] = \"source-\"+users['Identifier'] + \"|\" + \"action-\"+users['eventName']\n",
    "users['event-target'] = \"action-\"+ users['eventName'] + \"|\" + \"target-\"+ users['TargetService']\n",
    "users = users[users['eventName'].notna()]"
   ]
  },
  {
   "cell_type": "code",
   "execution_count": null,
   "id": "114cd803",
   "metadata": {},
   "outputs": [],
   "source": [
    "users.head()"
   ]
  },
  {
   "cell_type": "code",
   "execution_count": null,
   "id": "c5138c68",
   "metadata": {},
   "outputs": [],
   "source": [
    "users['Identifier'] = users['Identifier'].apply(lambda x : f\"source-{x}\")\n",
    "users['TargetService'] = users['TargetService'].apply(lambda x : f\"target-{x}\")\n",
    "users['eventName'] = users['eventName'].apply(lambda x : f\"action-{x}\")"
   ]
  },
  {
   "cell_type": "code",
   "execution_count": null,
   "id": "673a6993",
   "metadata": {},
   "outputs": [],
   "source": [
    "len(users['TargetService'].unique())"
   ]
  },
  {
   "cell_type": "code",
   "execution_count": null,
   "id": "b929870b",
   "metadata": {},
   "outputs": [],
   "source": [
    "def get_time_df(start,end,minutes,df,col='timestamp'):\n",
    "    minutes = minutes * 60\n",
    "    df_list = []\n",
    "    start_time = start\n",
    "    df_len = 0\n",
    "    while start < end:\n",
    "        cur_df = df[(df[col] >= start_time) & (df[col] < start+minutes)]\n",
    "        if len(cur_df) != df_len:\n",
    "            df_list.append(df[(df[col] >= start_time) & (df[col] < start+minutes)])\n",
    "            df_len = len(cur_df)\n",
    "        start+=minutes\n",
    "    return df_list"
   ]
  },
  {
   "cell_type": "code",
   "execution_count": null,
   "id": "167ba45a",
   "metadata": {},
   "outputs": [],
   "source": [
    "df_list = get_time_df(users['timestamp'].iloc[0],users['timestamp'].iloc[-1],60*24*30,users)"
   ]
  },
  {
   "cell_type": "code",
   "execution_count": null,
   "id": "27100be2",
   "metadata": {},
   "outputs": [],
   "source": [
    "len(df_list)"
   ]
  },
  {
   "cell_type": "markdown",
   "id": "f05afd49",
   "metadata": {},
   "source": [
    "# Create the graph"
   ]
  },
  {
   "cell_type": "code",
   "execution_count": null,
   "id": "44258c56",
   "metadata": {},
   "outputs": [],
   "source": [
    "nodes = ['Identifier','eventName','TargetService']\n",
    "edges = ['identity-event','event-target']\n"
   ]
  },
  {
   "cell_type": "code",
   "execution_count": null,
   "id": "d1c8fde2",
   "metadata": {},
   "outputs": [],
   "source": [
    "def add_nodes(g,df,col,x,jump=10):\n",
    "    y = 10\n",
    "    unique_nodes = df[col].unique()\n",
    "    for i in unique_nodes:\n",
    "        if i!= None:\n",
    "            g.add_node(f'{i}',pos=(x,y))\n",
    "            y+=jump\n",
    "#     for i in range(len(unique_nodes)-1):\n",
    "#         g.add_edge(unique_nodes[i],unique_nodes[i+1])\n",
    "\n",
    "def add_edges(g,df,col):\n",
    "    edges = df[col].value_counts()\n",
    "    edges = edges/edges.max()\n",
    "    for node,value in edges.items():\n",
    "        start_node,end_node = node.split('|')\n",
    "        if \"None\" not in start_node and \"None\" not in end_node:\n",
    "            g.add_edge(start_node, end_node, weight=value)"
   ]
  },
  {
   "cell_type": "code",
   "execution_count": null,
   "id": "816e3767",
   "metadata": {},
   "outputs": [],
   "source": [
    "def generate_graph(G,df_nodes,df_edges):  \n",
    "    x = 10\n",
    "#     nodes_li = []\n",
    "    for node in nodes:\n",
    "        add_nodes(G,df_nodes,node,x,100)\n",
    "        x+=1\n",
    "#         nodes_li.append(df_nodes[node].unique())\n",
    "#     for i in range(len(nodes_li)-1):\n",
    "#         for node1 in nodes_li[i]:\n",
    "#             for node2 in nodes_li[i+1]:\n",
    "#                 G.add_edge(node1,node2,weight=0)\n",
    "    for edge in edges:\n",
    "        add_edges(G,df_edges,edge)"
   ]
  },
  {
   "cell_type": "code",
   "execution_count": null,
   "id": "9a46acc4",
   "metadata": {},
   "outputs": [],
   "source": [
    "G = nx.Graph()"
   ]
  },
  {
   "cell_type": "code",
   "execution_count": null,
   "id": "7553e378",
   "metadata": {},
   "outputs": [],
   "source": [
    "generate_graph(G,users,users)"
   ]
  },
  {
   "cell_type": "code",
   "execution_count": null,
   "id": "c527219d",
   "metadata": {},
   "outputs": [],
   "source": [
    "def generate_graphs(df,df_list):\n",
    "    li = []\n",
    "    len_data = 0\n",
    "    for data in df_list:\n",
    "        if len(data) != len_data:\n",
    "            G = nx.Graph()\n",
    "            generate_graph(G,df,data)\n",
    "            li.append(G)\n",
    "            len_data = len(data)\n",
    "    return li"
   ]
  },
  {
   "cell_type": "code",
   "execution_count": null,
   "id": "e0ed3a1d",
   "metadata": {},
   "outputs": [],
   "source": [
    "graphs = generate_graphs(users,df_list)"
   ]
  },
  {
   "cell_type": "code",
   "execution_count": null,
   "id": "5034101e",
   "metadata": {},
   "outputs": [],
   "source": [
    "len(graphs)"
   ]
  },
  {
   "cell_type": "code",
   "execution_count": null,
   "id": "2cbabcd6",
   "metadata": {},
   "outputs": [],
   "source": [
    "# from pylab import rcParams\n",
    "# rcParams['figure.figsize'] = 14, 10\n",
    "# pos=nx.get_node_attributes(G,'pos')\n",
    "# # pos = nx.spring_layout(G, scale=20, k=3/np.sqrt(G.order()))\n",
    "# d = dict(G.degree)\n",
    "# nx.draw(G, pos, node_color='lightblue', \n",
    "#         with_labels=True, \n",
    "#         nodelist=d, \n",
    "#         node_size=[d[k]*300 for k in d])\n",
    "# labels = nx.get_edge_attributes(G,'weight')\n",
    "# nx.draw_networkx_edge_labels(G,pos,edge_labels=labels,font_size=5)\n",
    "# import matplotlib.pyplot as plt\n",
    "# plt.savefig(f'plotgraph.png', dpi=300, bbox_inches='tight')\n",
    "\n",
    "\n",
    "# pos=nx.get_node_attributes(G,'pos')\n",
    "# nx.draw(G,pos)\n",
    "# plt.show()"
   ]
  },
  {
   "cell_type": "code",
   "execution_count": null,
   "id": "9e71db0c",
   "metadata": {},
   "outputs": [],
   "source": [
    "# from sklearn.manifold import SpectralEmbedding\n",
    "# embedding = SpectralEmbedding(n_components=74)\n",
    "# X = embedding.fit_transform(df)\n",
    "walk_length = 20  # maximum length of a random walk to use throughout this notebook"
   ]
  },
  {
   "cell_type": "code",
   "execution_count": null,
   "id": "330c5a29",
   "metadata": {},
   "outputs": [],
   "source": [
    "def gen_stellar(graphs):\n",
    "    stellar_list = []\n",
    "    for G in graphs:\n",
    "        G = StellarGraph.from_networkx(G)\n",
    "        rw = BiasedRandomWalk(G)\n",
    "        stellar_list.append((G,rw))\n",
    "    return stellar_list"
   ]
  },
  {
   "cell_type": "code",
   "execution_count": null,
   "id": "994395be",
   "metadata": {},
   "outputs": [],
   "source": [
    "def weighted_walks_graphs(SL):\n",
    "    WW = []\n",
    "    for G,rw in SL:\n",
    "        weighted_walks = rw.run(\n",
    "          nodes=G.nodes(),  # root nodes\n",
    "          length=walk_length,  # maximum length of a random walk\n",
    "          n=10,  # number of random walks per root node\n",
    "          p=0.5,  # Defines (unormalised) probability, 1/p, of returning to source node\n",
    "          q=2.0,  # Defines (unormalised) probability, 1/q, for moving away from source node\n",
    "          weighted=True,  # for weighted random walks\n",
    "          seed=42,  # random seed fixed for reproducibility\n",
    "        )\n",
    "        WW.append(weighted_walks)\n",
    "    return WW"
   ]
  },
  {
   "cell_type": "code",
   "execution_count": null,
   "id": "d7beed78",
   "metadata": {},
   "outputs": [],
   "source": [
    "def weighted_models(WW):\n",
    "    w2v_models = []\n",
    "    for weighted_walks in WW:\n",
    "        weighted_model = Word2Vec(\n",
    "          weighted_walks, vector_size=128, window=5, min_count=0, sg=1, workers=1,\n",
    "        )\n",
    "        w2v_models.append(weighted_model)\n",
    "    return w2v_models"
   ]
  },
  {
   "cell_type": "code",
   "execution_count": null,
   "id": "adebd326",
   "metadata": {},
   "outputs": [],
   "source": [
    "def node_embedding(weighted_model_list):\n",
    "    embedding = []\n",
    "    for weighted_model in weighted_model_list:\n",
    "        node_ids = weighted_model.wv.index_to_key  # list of node IDs\n",
    "        weighted_node_embeddings = (\n",
    "          weighted_model.wv.vectors\n",
    "        ) \n",
    "        embedding.append((node_ids,weighted_node_embeddings))\n",
    "    return embedding"
   ]
  },
  {
   "cell_type": "code",
   "execution_count": null,
   "id": "d73d1d0b",
   "metadata": {},
   "outputs": [],
   "source": [
    "def d2_graphs(embedding):\n",
    "    embedding2d_annotation = []\n",
    "    for node_ids,weighted_node_embeddings in embedding:\n",
    "        tsne = TSNE(n_components=2, random_state=42)\n",
    "        weighted_node_embeddings_2d = tsne.fit_transform(weighted_node_embeddings)\n",
    "        embedding2d_annotation.append((node_ids,weighted_node_embeddings_2d))\n",
    "    return embedding2d_annotation"
   ]
  },
  {
   "cell_type": "code",
   "execution_count": null,
   "id": "381f1f7c",
   "metadata": {},
   "outputs": [],
   "source": [
    "SL = gen_stellar([G])\n",
    "WW = weighted_walks_graphs(SL)\n",
    "weighted_model_list = weighted_models(WW)\n",
    "embedding = node_embedding(weighted_model_list)\n",
    "d2_graphs_list = d2_graphs(embedding)\n",
    "X = d2_graphs_list[0][1]"
   ]
  },
  {
   "cell_type": "code",
   "execution_count": null,
   "id": "118ee101",
   "metadata": {},
   "outputs": [],
   "source": [
    "SL_graphs = gen_stellar(graphs)\n",
    "WW_graphs = weighted_walks_graphs(SL_graphs)\n",
    "weighted_model_list_graphs = weighted_models(WW_graphs)\n",
    "embedding_graphs = node_embedding(weighted_model_list_graphs)\n",
    "d2_graphs_li = d2_graphs(embedding_graphs)"
   ]
  },
  {
   "cell_type": "code",
   "execution_count": null,
   "id": "f9a4f0f7",
   "metadata": {},
   "outputs": [],
   "source": [
    "# d2_graphs_li"
   ]
  },
  {
   "cell_type": "code",
   "execution_count": null,
   "id": "d9788d2b",
   "metadata": {},
   "outputs": [],
   "source": [
    "# count = 0\n",
    "# for j in range(len(d2_graphs_li)):\n",
    "#     i = d2_graphs_li[j]\n",
    "#     G1 = nx.Graph()\n",
    "#     color_map = []\n",
    "#     for k in range(len(i[0])):\n",
    "#         if i[0][k] == \"source-cloud_user\":\n",
    "#             color_map.append(\"red\")\n",
    "#             G1.add_node(i[0][k],pos=i[1][k])\n",
    "#         else:\n",
    "#             color_map.append(\"green\")\n",
    "#             G1.add_node(i[0][k],pos=i[1][k])\n",
    "#     pos=nx.get_node_attributes(G1,'pos')\n",
    "# #     if j == len(d2_graphs_li)-1:\n",
    "#     nx.draw(G1,pos,node_color=color_map)#node_color=color_map)\n",
    "# #     else:\n",
    "# #         nx.draw(G1,pos)#node_color=color_map)\n",
    "# #     plt.savefig(f\"figure{count}.png\")\n",
    "#     plt.show()\n",
    "#     count+=1"
   ]
  },
  {
   "cell_type": "code",
   "execution_count": null,
   "id": "1a3166c4",
   "metadata": {},
   "outputs": [],
   "source": [
    "df_from_graphs = []\n",
    "for graph in graphs:\n",
    "    df_from_graphs.append(nx.to_pandas_adjacency(graph, dtype=float))"
   ]
  },
  {
   "cell_type": "code",
   "execution_count": null,
   "id": "e4fa83b4",
   "metadata": {},
   "outputs": [],
   "source": [
    "distance_df = pd.DataFrame(0, index=embedding[0][0], columns=embedding[0][0])"
   ]
  },
  {
   "cell_type": "code",
   "execution_count": null,
   "id": "9c46b99b",
   "metadata": {},
   "outputs": [],
   "source": [
    "# d2_graphs_list[0][0].index('source-cloud_user')"
   ]
  },
  {
   "cell_type": "code",
   "execution_count": null,
   "id": "8cf972dc",
   "metadata": {},
   "outputs": [],
   "source": [
    "fig, ax = plt.subplots()\n",
    "ax.scatter(X[:, 0], X[:, 1])\n",
    "\n",
    "for i, txt in enumerate(X):\n",
    "    ax.annotate(i, (txt[0], txt[1]))"
   ]
  },
  {
   "cell_type": "code",
   "execution_count": null,
   "id": "b8c9f497",
   "metadata": {},
   "outputs": [],
   "source": [
    "X = embedding[0][1]"
   ]
  },
  {
   "cell_type": "code",
   "execution_count": null,
   "id": "844ce233",
   "metadata": {},
   "outputs": [],
   "source": [
    "X"
   ]
  },
  {
   "cell_type": "code",
   "execution_count": null,
   "id": "fff72eee",
   "metadata": {},
   "outputs": [],
   "source": [
    "from sklearn.neighbors import NearestNeighbors\n",
    "a = -1\n",
    "ans_di = {}\n",
    "for df_graph in df_from_graphs:\n",
    "    a+=1\n",
    "    target_cols = [col for col in df_graph.columns if 'action-' in col]\n",
    "#     if a == 2:\n",
    "#         print(target_cols)\n",
    "    for col in target_cols:\n",
    "        index_di = {}\n",
    "        index_to_pd_index = {}\n",
    "        nodes = df_graph[col].loc[df_graph[col]>0]\n",
    "        node_di = {key:value for key,value in nodes.items() if 'source-' in key and 'resource-' not in key}\n",
    "#         if \"source-cloud_user\" in node_di.keys():\n",
    "#             print(col)\n",
    "        for i,other in enumerate(node_di.items()):\n",
    "            ind,_=other\n",
    "            pd_index = embedding_graphs[a][0].index(ind)\n",
    "            index_di[pd_index] = ind\n",
    "            index_to_pd_index[i] = ind\n",
    "        if len(index_di) > 1:\n",
    "            X = embedding_graphs[a][1]\n",
    "            x = X[list(index_di.keys())]\n",
    "            nbrs = NearestNeighbors(n_neighbors=2, algorithm='ball_tree').fit(x)\n",
    "            distances, indices = nbrs.kneighbors(x)\n",
    "            for i,other in enumerate(index_di.items()):\n",
    "                key,value = other\n",
    "                nearest_neighbor = indices[i][1]\n",
    "                nearest_neighbor_ind = index_to_pd_index[nearest_neighbor]\n",
    "                if ans_di.get(value,False) == False:\n",
    "                    ans_di[value] = {}\n",
    "                if ans_di[value].get(a,False) == False: \n",
    "                    ans_di[value][a] = 0\n",
    "                ans_di[value][a] = max(ans_di[value][a],distances[i][1])\n",
    "                if distance_df.loc[value,nearest_neighbor_ind] ==0:#<  distances[i][1]:\n",
    "                    distance_df.loc[value,nearest_neighbor_ind] = distances[i][1]"
   ]
  },
  {
   "cell_type": "code",
   "execution_count": null,
   "id": "ee3e139f",
   "metadata": {},
   "outputs": [],
   "source": [
    "cols = [c for c in distance_df.columns if 'action' not in c and 'target' not in c]\n",
    "\n",
    "distance_df = distance_df[cols].drop(distance_df.columns.difference(cols))"
   ]
  },
  {
   "cell_type": "code",
   "execution_count": null,
   "id": "80eaf6a3",
   "metadata": {},
   "outputs": [],
   "source": [
    "result = nx.from_pandas_adjacency(distance_df)"
   ]
  },
  {
   "cell_type": "code",
   "execution_count": null,
   "id": "7c155ca3",
   "metadata": {},
   "outputs": [],
   "source": [
    "pos_di = {}\n",
    "for i in range(len(d2_graphs_list[0][0])):\n",
    "    if 'source-' in d2_graphs_list[0][0][i] and 'resource-' not in d2_graphs_list[0][0][i]:\n",
    "        pos_di[d2_graphs_list[0][0][i]] = d2_graphs_list[0][1][i]"
   ]
  },
  {
   "cell_type": "code",
   "execution_count": null,
   "id": "c8ab0668",
   "metadata": {},
   "outputs": [],
   "source": [
    "\n",
    "color_map = ['red' if node == 'source-cloud_user' or node == 'source-sec-check' else 'green' for node in result]        \n",
    "# pos=nx.spring_layout(result) # pos = nx.nx_agraph.graphviz_layout(G)\n",
    "nx.draw(result,pos=pos_di,node_color=color_map,with_labels = True, node_size=60,font_size=8)\n",
    "# labels = nx.get_edge_attributes(result,'weight')\n",
    "# nx.draw_networkx_edge_labels(result,pos=pos)\n",
    "plt.savefig(\"res.png\")"
   ]
  },
  {
   "cell_type": "code",
   "execution_count": null,
   "id": "ac5d999a",
   "metadata": {
    "scrolled": false
   },
   "outputs": [],
   "source": [
    "# distance_df.loc['source-cloud_user']"
   ]
  },
  {
   "cell_type": "code",
   "execution_count": null,
   "id": "7612440b",
   "metadata": {},
   "outputs": [],
   "source": [
    "# distance_df['source-cloud_user']"
   ]
  },
  {
   "cell_type": "code",
   "execution_count": null,
   "id": "cf83a651",
   "metadata": {},
   "outputs": [],
   "source": [
    "distance_df.head()"
   ]
  },
  {
   "cell_type": "code",
   "execution_count": null,
   "id": "1c9bf731",
   "metadata": {},
   "outputs": [],
   "source": [
    "ans = distance_df.T.max().reset_index().rename(columns={0:'Anomaly Score'})"
   ]
  },
  {
   "cell_type": "code",
   "execution_count": null,
   "id": "8e681aa5",
   "metadata": {},
   "outputs": [],
   "source": [
    "ans.sort_values('index',inplace = True,ignore_index=True)"
   ]
  },
  {
   "cell_type": "code",
   "execution_count": null,
   "id": "a1bfca28",
   "metadata": {},
   "outputs": [],
   "source": [
    "ans['Node'] = ans.index"
   ]
  },
  {
   "cell_type": "code",
   "execution_count": null,
   "id": "ecfcac42",
   "metadata": {},
   "outputs": [],
   "source": [
    "ax = ans.plot.bar(x='Node',\n",
    "                      y='Anomaly Score',ylim=(0,2.7))"
   ]
  },
  {
   "cell_type": "code",
   "execution_count": null,
   "id": "8a0ee54d",
   "metadata": {},
   "outputs": [],
   "source": [
    "for i in enumerate(ans['index']):\n",
    "    print(i)"
   ]
  },
  {
   "cell_type": "code",
   "execution_count": null,
   "id": "b9cd525f",
   "metadata": {},
   "outputs": [],
   "source": [
    "ans[ans['Anomaly Score'] > ans['Anomaly Score'].mean() + 2*ans['Anomaly Score'].std()]"
   ]
  },
  {
   "cell_type": "code",
   "execution_count": null,
   "id": "f7111958",
   "metadata": {},
   "outputs": [],
   "source": [
    "ans['Anomaly Score'].mean() + 2*ans['Anomaly Score'].std()"
   ]
  },
  {
   "cell_type": "code",
   "execution_count": null,
   "id": "e71c0de7",
   "metadata": {},
   "outputs": [],
   "source": [
    "ans['Anomaly Score'].mean() + 1*ans['Anomaly Score'].std()"
   ]
  },
  {
   "cell_type": "code",
   "execution_count": null,
   "id": "63c9f27a",
   "metadata": {},
   "outputs": [],
   "source": [
    "ans['Anomaly Score'].mean()"
   ]
  },
  {
   "cell_type": "code",
   "execution_count": null,
   "id": "2024a11b",
   "metadata": {},
   "outputs": [],
   "source": [
    "ans['Anomaly Score'].std()*ans['Anomaly Score'].std()"
   ]
  }
 ],
 "metadata": {
  "kernelspec": {
   "display_name": "Python 3 (ipykernel)",
   "language": "python",
   "name": "python3"
  },
  "language_info": {
   "codemirror_mode": {
    "name": "ipython",
    "version": 3
   },
   "file_extension": ".py",
   "mimetype": "text/x-python",
   "name": "python",
   "nbconvert_exporter": "python",
   "pygments_lexer": "ipython3",
   "version": "3.9.6"
  }
 },
 "nbformat": 4,
 "nbformat_minor": 5
}
